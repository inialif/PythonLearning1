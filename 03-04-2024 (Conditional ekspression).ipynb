{
 "cells": [
  {
   "cell_type": "markdown",
   "id": "93ecf8d6-eb1d-4706-b521-5531dd868d94",
   "metadata": {},
   "source": [
    "### Conditional Expressions\n",
    "---"
   ]
  },
  {
   "cell_type": "markdown",
   "id": "2438a1e7-2982-45e0-9370-d7c55dc83d3f",
   "metadata": {},
   "source": [
    "##### IF\n",
    "---\n",
    "+ ekspression diletakkan setelah IF dan keputusan ditentuan berdasarkan nilai kebenaran dari ekspression tersebut\n",
    "+ jika dievaluasi sebagai \"True\", maka blok di dalam IF statement akan dieksekusi\n",
    "  sesuai konversi, blok ini memiliki indentais masuk setelah tanda titik dua (:)\n",
    "+ jika dievaluasi sebagai \"False\", maka maka blok setelah statement IF yang akan dijalankan"
   ]
  },
  {
   "cell_type": "code",
   "execution_count": null,
   "id": "20d88ddb-4c86-4e95-b0a6-dd9dc4d79c91",
   "metadata": {},
   "outputs": [],
   "source": [
    "namaku = \"alifia\"\n",
    "\n",
    "if namaku:\n",
    "    print(\"ya, benar namaku {}\". format(namaku))"
   ]
  },
  {
   "cell_type": "code",
   "execution_count": null,
   "id": "1d2f0dda-1c54-4625-a0b2-8c3566018077",
   "metadata": {},
   "outputs": [],
   "source": [
    "namaku = \"alifia\"\n",
    "\n",
    "if namaku:\n",
    "    print (\"nama saya {}\". format(namaku))"
   ]
  },
  {
   "cell_type": "code",
   "execution_count": null,
   "id": "56fd164a-64e2-4530-be47-ea79b2c3eced",
   "metadata": {},
   "outputs": [],
   "source": [
    "usiaku = \"24\""
   ]
  },
  {
   "cell_type": "code",
   "execution_count": null,
   "id": "8715b754-4360-4277-bfde-37910f796de4",
   "metadata": {},
   "outputs": [],
   "source": [
    "if usiaku:\n",
    "    print(\"umur saya {}\". format(usiaku))"
   ]
  },
  {
   "cell_type": "markdown",
   "id": "3a0dbf55-9281-4bb7-8255-f585d17dc2cb",
   "metadata": {},
   "source": [
    "##### Else\n",
    "---\n"
   ]
  },
  {
   "cell_type": "code",
   "execution_count": null,
   "id": "f8c5b3ef-4a5a-4bc1-8e81-ba462b68cada",
   "metadata": {},
   "outputs": [],
   "source": [
    "usia = (input(\"usia anda: \"))"
   ]
  },
  {
   "cell_type": "code",
   "execution_count": null,
   "id": "143efb01-94f9-499b-8897-899c0617daff",
   "metadata": {},
   "outputs": [],
   "source": [
    "int(input())"
   ]
  },
  {
   "cell_type": "code",
   "execution_count": null,
   "id": "f7a9ce57-65de-4595-a89d-4f425f03c7b7",
   "metadata": {},
   "outputs": [],
   "source": [
    "usia = int(input(\"usia anda: \"))\n",
    "\n",
    "if usia >= 17:\n",
    "    print(\"Sudah punya KTP\")\n",
    "else:\n",
    "    print(\"Belum punya KTP\")"
   ]
  },
  {
   "cell_type": "markdown",
   "id": "78e3d579-f6e7-46fc-a310-2407afa082f4",
   "metadata": {},
   "source": [
    "##### Elif\n",
    "---\n",
    "+ kependekan dari else if\n",
    "+ alternatif untuk if bertingkat\n",
    "+ sebuah IF statement dapat diikuti oleh oleh satu atau lebih statement elif (opsional dan tidak dibatasi)"
   ]
  },
  {
   "cell_type": "code",
   "execution_count": null,
   "id": "3557b465-0890-42f8-9432-43dd0dc8814f",
   "metadata": {},
   "outputs": [],
   "source": [
    "nilai = int(input(\"Nilai ujian saya:\"))\n",
    "\n",
    "if nilai >= 80:\n",
    "    print(\"saya mendapat A\")\n",
    "elif nilai >= 70:\n",
    "    print(\"saya mendapat B\")\n",
    "else:\n",
    "    print(\"saya mendapat C\")"
   ]
  },
  {
   "attachments": {},
   "cell_type": "markdown",
   "id": "782b5e26-cb9d-4039-aae3-6f64493d3ac4",
   "metadata": {},
   "source": [
    "#### Task\n",
    "---"
   ]
  },
  {
   "cell_type": "markdown",
   "id": "0ed1fadb-f786-4d52-88a3-e99ac379c1a1",
   "metadata": {},
   "source": [
    "1. IF dan Else\n",
    "---"
   ]
  },
  {
   "cell_type": "code",
   "execution_count": null,
   "id": "5656c4e9-7f32-4e13-8e38-62e0157fa980",
   "metadata": {},
   "outputs": [],
   "source": [
    "#Menerima input pengguna\n",
    "menu = input(\"Menu yang ingin dipesan:\")\n",
    "\n",
    "#Memeriksa apakah menu tersedia\n",
    "if menu.lower() == \"mie ayam\":\n",
    "    print(\"menu tidak tesedia.\")\n",
    "else:\n",
    "    print(\"Menu tersedia\")"
   ]
  },
  {
   "cell_type": "code",
   "execution_count": null,
   "id": "8355429e-8b8d-4166-8828-6cc72130b498",
   "metadata": {},
   "outputs": [],
   "source": [
    "#Menerima input pengguna\n",
    "menu = input(\"Menu yang ingin dipesan:\")\n",
    "\n",
    "#Memeriksa apakah menu tersedia\n",
    "if menu.lower() == \"mie ayam\":\n",
    "    print(\"Menu tidak tesedia.\")\n",
    "else:\n",
    "    print(\"Menu tersedia\")"
   ]
  },
  {
   "cell_type": "markdown",
   "id": "2f61d4fc-c237-4456-96a9-7e2a1dd1fe93",
   "metadata": {},
   "source": [
    "2. Elif\n",
    "---"
   ]
  },
  {
   "cell_type": "code",
   "execution_count": null,
   "id": "424cee16-08fb-4763-9dd6-583c4513dcc3",
   "metadata": {},
   "outputs": [],
   "source": [
    "#Menerima input pengguna\n",
    "menu = input(\"Menu yang ingin dipesan:\")\n",
    "\n",
    "#Memeriksa apakah menu tersedia\n",
    "if menu.lower() == \"mie ayam\":\n",
    "    print(\"Menu tidak tesedia.\")\n",
    "elif menu.lower() == \"nasi goreng\":\n",
    "    print(\"Menu tersedia.\")\n",
    "elif menu.lower() == \"ayam bakar\":\n",
    "    print(\"Menu hanya tersedia 3 porsi.\")\n",
    "else:\n",
    "    print(\"Menu tersedia\")"
   ]
  }
 ],
 "metadata": {
  "kernelspec": {
   "display_name": "Python 3 (ipykernel)",
   "language": "python",
   "name": "python3"
  },
  "language_info": {
   "codemirror_mode": {
    "name": "ipython",
    "version": 3
   },
   "file_extension": ".py",
   "mimetype": "text/x-python",
   "name": "python",
   "nbconvert_exporter": "python",
   "pygments_lexer": "ipython3",
   "version": "3.11.7"
  }
 },
 "nbformat": 4,
 "nbformat_minor": 5
}
