{
 "cells": [
  {
   "cell_type": "markdown",
   "id": "09180c8e-231b-4992-bf1c-c7ad64f708b1",
   "metadata": {},
   "source": [
    "## ***Operator, Operands, and Expressions***\n",
    "---"
   ]
  },
  {
   "cell_type": "markdown",
   "id": "26ec3fd9-5a1e-4c29-9629-cba9b8b6fbef",
   "metadata": {},
   "source": [
    "With\r\n",
    "+ 1, 2 or a, b are operand variables\r\n",
    "+ (1+2) and (a+b)\r\n",
    "+ (+) : Operator"
   ]
  },
  {
   "cell_type": "markdown",
   "id": "a906cb24-1094-4395-99d7-a7bef845cb43",
   "metadata": {},
   "source": [
    "Expressions can be used without using variables directly in Python"
   ]
  },
  {
   "cell_type": "code",
   "execution_count": 4,
   "id": "ae78e10f-76c3-4235-9d43-de12e05fee89",
   "metadata": {},
   "outputs": [
    {
     "name": "stdout",
     "output_type": "stream",
     "text": [
      "3\n"
     ]
    }
   ],
   "source": [
    "print(1 + 2)"
   ]
  },
  {
   "cell_type": "code",
   "execution_count": 5,
   "id": "720895af-f9e1-4181-bc44-94088bfdd055",
   "metadata": {},
   "outputs": [
    {
     "name": "stdout",
     "output_type": "stream",
     "text": [
      "12\n"
     ]
    }
   ],
   "source": [
    "print(3 * 4)"
   ]
  },
  {
   "cell_type": "markdown",
   "id": "5e449f3d-37a1-46aa-8bb2-b041f797bb32",
   "metadata": {},
   "source": [
    "#### ***Jenis - jenis operator pada Matematika dan String***\n",
    "---\n",
    "\n",
    "1. ( + ) Penjumlahan\n",
    "2. ( - ) Pengurangan\n",
    "3. ( * ) Perkalian\n",
    "4. ( ** ) Pangkat\n",
    "5. ( / ) Pembagian\n",
    "6. ( // ) Pembagian Habis Bagi\n",
    "7. ( % ) Modulo\n",
    "---"
   ]
  },
  {
   "cell_type": "markdown",
   "id": "47ae7ecb-77c7-4244-aaa0-ab387e0ece02",
   "metadata": {},
   "source": [
    "##### ( + ) Penjumlahan\n",
    "---"
   ]
  },
  {
   "cell_type": "code",
   "execution_count": 2,
   "id": "03082a1a-8aa1-4d1c-83f2-254212abb5cf",
   "metadata": {},
   "outputs": [
    {
     "data": {
      "text/plain": [
       "13"
      ]
     },
     "execution_count": 2,
     "metadata": {},
     "output_type": "execute_result"
    }
   ],
   "source": [
    "5 + 8"
   ]
  },
  {
   "cell_type": "code",
   "execution_count": 8,
   "id": "2fffb619-8306-4ea1-84e3-f02f767c677f",
   "metadata": {},
   "outputs": [
    {
     "data": {
      "text/plain": [
       "'data'"
      ]
     },
     "execution_count": 8,
     "metadata": {},
     "output_type": "execute_result"
    }
   ],
   "source": [
    "'da' + 'ta'"
   ]
  },
  {
   "cell_type": "markdown",
   "id": "36878e39-38d9-4074-86ba-69d64c361f49",
   "metadata": {},
   "source": [
    "---\n",
    "##### ( - ) Pengurangan\n",
    "---"
   ]
  },
  {
   "cell_type": "code",
   "execution_count": 9,
   "id": "83efd6f8-96ee-4fe9-a539-f1f71614619f",
   "metadata": {},
   "outputs": [
    {
     "data": {
      "text/plain": [
       "4"
      ]
     },
     "execution_count": 9,
     "metadata": {},
     "output_type": "execute_result"
    }
   ],
   "source": [
    "9 - 5"
   ]
  },
  {
   "cell_type": "markdown",
   "id": "f06124d6-4723-42f7-969c-1bb9859da23d",
   "metadata": {},
   "source": [
    "Does not apply to strings, so it will produce unsupported operands\r\n",
    "\r\n",
    "example:"
   ]
  },
  {
   "cell_type": "code",
   "execution_count": 10,
   "id": "1a9d0b7e-53df-499b-b7de-5885eb2d87d4",
   "metadata": {},
   "outputs": [
    {
     "ename": "TypeError",
     "evalue": "unsupported operand type(s) for -: 'str' and 'str'",
     "output_type": "error",
     "traceback": [
      "\u001b[1;31m---------------------------------------------------------------------------\u001b[0m",
      "\u001b[1;31mTypeError\u001b[0m                                 Traceback (most recent call last)",
      "Cell \u001b[1;32mIn[10], line 1\u001b[0m\n\u001b[1;32m----> 1\u001b[0m \u001b[38;5;124m'\u001b[39m\u001b[38;5;124mdata\u001b[39m\u001b[38;5;124m'\u001b[39m \u001b[38;5;241m-\u001b[39m \u001b[38;5;124m'\u001b[39m\u001b[38;5;124mda\u001b[39m\u001b[38;5;124m'\u001b[39m\n",
      "\u001b[1;31mTypeError\u001b[0m: unsupported operand type(s) for -: 'str' and 'str'"
     ]
    }
   ],
   "source": [
    "'data' - 'da'"
   ]
  },
  {
   "cell_type": "markdown",
   "id": "165c351b-2b41-40c4-96f1-60ffe6f0f932",
   "metadata": {},
   "source": [
    "---\n",
    "##### ( * ) Perkalian\n",
    "---"
   ]
  },
  {
   "cell_type": "code",
   "execution_count": 11,
   "id": "e7cb8e84-3864-4827-b422-cada183971b4",
   "metadata": {},
   "outputs": [
    {
     "data": {
      "text/plain": [
       "35"
      ]
     },
     "execution_count": 11,
     "metadata": {},
     "output_type": "execute_result"
    }
   ],
   "source": [
    "5 * 7"
   ]
  },
  {
   "cell_type": "markdown",
   "id": "d1790a7d-e062-49a6-8cdc-afae46740fe5",
   "metadata": {},
   "source": [
    "Multiplication on a string will repeat the string a certain number of times, for example:"
   ]
  },
  {
   "cell_type": "code",
   "execution_count": 12,
   "id": "81e24c11-e8d2-45d1-ba51-47169a0647d3",
   "metadata": {},
   "outputs": [
    {
     "data": {
      "text/plain": [
       "'HaHaHaHaHaHa'"
      ]
     },
     "execution_count": 12,
     "metadata": {},
     "output_type": "execute_result"
    }
   ],
   "source": [
    "\"HaHa\" * 3"
   ]
  },
  {
   "cell_type": "markdown",
   "id": "8441b9e8-0330-4dcd-a071-4dfcc5ebfb19",
   "metadata": {},
   "source": [
    "---\n",
    "##### ( ** ) Pangkat\n",
    "---"
   ]
  },
  {
   "cell_type": "code",
   "execution_count": 13,
   "id": "0a4f604f-a86d-4b0c-b63f-bcac1d659663",
   "metadata": {},
   "outputs": [
    {
     "data": {
      "text/plain": [
       "27"
      ]
     },
     "execution_count": 13,
     "metadata": {},
     "output_type": "execute_result"
    }
   ],
   "source": [
    "3 ** 3"
   ]
  },
  {
   "cell_type": "markdown",
   "id": "fd870efb-d948-48c0-9a7a-67410a933eb1",
   "metadata": {},
   "source": [
    "For second roots, use the power of 0.5, for example:"
   ]
  },
  {
   "cell_type": "code",
   "execution_count": 14,
   "id": "bc720467-660a-498e-a8c9-d7e00141a719",
   "metadata": {},
   "outputs": [
    {
     "data": {
      "text/plain": [
       "3.0"
      ]
     },
     "execution_count": 14,
     "metadata": {},
     "output_type": "execute_result"
    }
   ],
   "source": [
    "9 ** 0.5"
   ]
  },
  {
   "cell_type": "markdown",
   "id": "ab066a9d-197a-4801-9221-ba7518687868",
   "metadata": {},
   "source": [
    "---\n",
    "##### ( / ) Pembagian\n",
    "---\n",
    "\n",
    "Returns the result of dividing the first operand by the second operand (float)"
   ]
  },
  {
   "cell_type": "code",
   "execution_count": 15,
   "id": "1bfd61c3-346e-4dc2-ba84-b53f7c51a063",
   "metadata": {},
   "outputs": [
    {
     "data": {
      "text/plain": [
       "4.0"
      ]
     },
     "execution_count": 15,
     "metadata": {},
     "output_type": "execute_result"
    }
   ],
   "source": [
    "8 / 2"
   ]
  },
  {
   "cell_type": "code",
   "execution_count": 16,
   "id": "54e18734-e91c-4d66-ae92-5e5d733f8a5f",
   "metadata": {},
   "outputs": [
    {
     "data": {
      "text/plain": [
       "3.142857142857143"
      ]
     },
     "execution_count": 16,
     "metadata": {},
     "output_type": "execute_result"
    }
   ],
   "source": [
    "22 / 7"
   ]
  },
  {
   "cell_type": "markdown",
   "id": "eba976d3-ac2a-44fe-bc76-b251040435a3",
   "metadata": {},
   "source": [
    "---\n",
    "##### ( // ) Pembagian Habis Dibagi atau Division\n",
    "---\n",
    "\n",
    "+ returns the result of dividing the first operand by the second operand (integer)\r\n",
    "+ if one of the operands is a float, it will produce a float\n"
   ]
  },
  {
   "cell_type": "code",
   "execution_count": 17,
   "id": "4b47e2f8-bf16-43cd-8479-5fd20783ebf8",
   "metadata": {},
   "outputs": [
    {
     "data": {
      "text/plain": [
       "2"
      ]
     },
     "execution_count": 17,
     "metadata": {},
     "output_type": "execute_result"
    }
   ],
   "source": [
    "9 // 4"
   ]
  },
  {
   "cell_type": "code",
   "execution_count": 18,
   "id": "44571b33-ca78-4fba-9bcf-539d78e7c497",
   "metadata": {},
   "outputs": [
    {
     "data": {
      "text/plain": [
       "1"
      ]
     },
     "execution_count": 18,
     "metadata": {},
     "output_type": "execute_result"
    }
   ],
   "source": [
    "5 // 3"
   ]
  },
  {
   "cell_type": "markdown",
   "id": "30cd1b8c-67c8-4427-aae3-0e362ae45f6c",
   "metadata": {},
   "source": [
    "---\n",
    "##### ( % ) Modulo\n",
    "---\n",
    "\n",
    "Returns the remainder for"
   ]
  },
  {
   "cell_type": "code",
   "execution_count": 19,
   "id": "fdad6672-e4ae-401c-bbb5-e3de0a8be2d2",
   "metadata": {},
   "outputs": [
    {
     "data": {
      "text/plain": [
       "1"
      ]
     },
     "execution_count": 19,
     "metadata": {},
     "output_type": "execute_result"
    }
   ],
   "source": [
    "9 % 4"
   ]
  },
  {
   "cell_type": "code",
   "execution_count": 20,
   "id": "563df741-8e4c-429f-b0c2-e054d7233a64",
   "metadata": {},
   "outputs": [
    {
     "data": {
      "text/plain": [
       "2"
      ]
     },
     "execution_count": 20,
     "metadata": {},
     "output_type": "execute_result"
    }
   ],
   "source": [
    "5 % 3"
   ]
  },
  {
   "cell_type": "markdown",
   "id": "6e98ff43-f13f-4a51-a9a6-bde6a4f4dcf3",
   "metadata": {},
   "source": [
    "#### ***Task***\n",
    "---"
   ]
  },
  {
   "cell_type": "code",
   "execution_count": null,
   "id": "833be00f-0b9f-472b-beae-c2856be91e3e",
   "metadata": {},
   "outputs": [],
   "source": []
  },
  {
   "cell_type": "code",
   "execution_count": null,
   "id": "c4cb55cf-8fd5-4808-a96c-0729340ce262",
   "metadata": {},
   "outputs": [],
   "source": []
  }
 ],
 "metadata": {
  "kernelspec": {
   "display_name": "Python 3 (ipykernel)",
   "language": "python",
   "name": "python3"
  },
  "language_info": {
   "codemirror_mode": {
    "name": "ipython",
    "version": 3
   },
   "file_extension": ".py",
   "mimetype": "text/x-python",
   "name": "python",
   "nbconvert_exporter": "python",
   "pygments_lexer": "ipython3",
   "version": "3.11.7"
  }
 },
 "nbformat": 4,
 "nbformat_minor": 5
}
