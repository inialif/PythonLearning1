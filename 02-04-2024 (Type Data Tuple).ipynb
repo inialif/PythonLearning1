{
 "cells": [
  {
   "cell_type": "markdown",
   "id": "43766aca-d460-4768-86bc-e9ab5d3ab34c",
   "metadata": {},
   "source": [
    "## ***TUPLE DATA TYPE***\n",
    "---"
   ]
  },
  {
   "cell_type": "markdown",
   "id": "789570d0-e140-4819-bbf6-871311613c7e",
   "metadata": {},
   "source": [
    "Tuple is a type of list whose elements cannot be changed, generally used to type data that is written once and can be executed more quickly. Tuples are defined by brackets and separated by comma (,)"
   ]
  },
  {
   "cell_type": "code",
   "execution_count": 1,
   "id": "3e00a5ae-3c8e-4ac8-9a6b-74b7171c73d2",
   "metadata": {},
   "outputs": [],
   "source": [
    "a = (2, \"buku\")"
   ]
  },
  {
   "cell_type": "code",
   "execution_count": 2,
   "id": "88257806-e82b-4ee9-b51c-5e2b4ff6544e",
   "metadata": {},
   "outputs": [
    {
     "name": "stdout",
     "output_type": "stream",
     "text": [
      "(2, 'buku')\n"
     ]
    }
   ],
   "source": [
    "print(a)"
   ]
  },
  {
   "cell_type": "markdown",
   "id": "05d03203-c700-4fe4-ba3a-6e361ea11c99",
   "metadata": {},
   "source": [
    "##### Like the List data type, slicing can be done but the tuple data type cannot make changes\n",
    "---"
   ]
  },
  {
   "cell_type": "code",
   "execution_count": 3,
   "id": "2c99d576-6cf5-44a0-bd56-bb6df24befbb",
   "metadata": {},
   "outputs": [
    {
     "name": "stdout",
     "output_type": "stream",
     "text": [
      "buku\n"
     ]
    }
   ],
   "source": [
    "print(a[1])"
   ]
  },
  {
   "cell_type": "code",
   "execution_count": 5,
   "id": "000d19a7-6296-4873-bd96-41b77bae4d8e",
   "metadata": {},
   "outputs": [
    {
     "name": "stdout",
     "output_type": "stream",
     "text": [
      "(2, 'buku')\n"
     ]
    }
   ],
   "source": [
    "print (a[0:2])"
   ]
  },
  {
   "cell_type": "code",
   "execution_count": 6,
   "id": "6f1037a0-3ea3-4514-a86f-a87eec5f5391",
   "metadata": {},
   "outputs": [
    {
     "ename": "SyntaxError",
     "evalue": "expression cannot contain assignment, perhaps you meant \"==\"? (3772981779.py, line 1)",
     "output_type": "error",
     "traceback": [
      "\u001b[1;36m  Cell \u001b[1;32mIn[6], line 1\u001b[1;36m\u001b[0m\n\u001b[1;33m    print(a[0:2]=10)\u001b[0m\n\u001b[1;37m          ^\u001b[0m\n\u001b[1;31mSyntaxError\u001b[0m\u001b[1;31m:\u001b[0m expression cannot contain assignment, perhaps you meant \"==\"?\n"
     ]
    }
   ],
   "source": [
    "print(a[0:2]=10)"
   ]
  },
  {
   "cell_type": "markdown",
   "id": "54031584-d677-44fe-b3f5-8c3f2226c918",
   "metadata": {},
   "source": [
    "#### Task\n",
    "---"
   ]
  },
  {
   "cell_type": "code",
   "execution_count": null,
   "id": "49b44920-2ad2-44be-87a6-124f224783d8",
   "metadata": {},
   "outputs": [],
   "source": []
  }
 ],
 "metadata": {
  "kernelspec": {
   "display_name": "Python 3 (ipykernel)",
   "language": "python",
   "name": "python3"
  },
  "language_info": {
   "codemirror_mode": {
    "name": "ipython",
    "version": 3
   },
   "file_extension": ".py",
   "mimetype": "text/x-python",
   "name": "python",
   "nbconvert_exporter": "python",
   "pygments_lexer": "ipython3",
   "version": "3.11.7"
  }
 },
 "nbformat": 4,
 "nbformat_minor": 5
}
