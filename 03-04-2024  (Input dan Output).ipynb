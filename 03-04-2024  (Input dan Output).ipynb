{
 "cells": [
  {
   "cell_type": "markdown",
   "id": "93847e0c-17a3-4db0-8979-7b2b5c09e6d6",
   "metadata": {},
   "source": [
    "## INPUT - OUTPUT\n",
    "---"
   ]
  },
  {
   "cell_type": "markdown",
   "id": "36a5d058-2382-4eae-9434-4755dc06d6ae",
   "metadata": {},
   "source": [
    "Variabel\n",
    "\n",
    "Variabel adalah sebuah tempat (memori komputer) untuk menyimpan nilai dengan tipe data tertentu.  Untuk memberikan nilai pada sebuah variabel, dapat menggunakan operator \"=\" diantara nama variabel dengan nilai yang diinginkan."
   ]
  },
  {
   "cell_type": "code",
   "execution_count": null,
   "id": "6b6dda03-ceca-4979-8e94-d916ef53a240",
   "metadata": {},
   "outputs": [],
   "source": [
    "a = 3"
   ]
  },
  {
   "cell_type": "markdown",
   "id": "6d09148b-0883-4fa6-9e16-c6e9ef577686",
   "metadata": {},
   "source": [
    "##### Print()\n",
    "---\n",
    "Fungsi print() adalah sebagai cara output langsung ke koneksi atau layar"
   ]
  },
  {
   "cell_type": "code",
   "execution_count": null,
   "id": "79e7d294-14d4-44fd-858c-a893f9220e36",
   "metadata": {},
   "outputs": [],
   "source": [
    "print(\"Apa Kabar?\")"
   ]
  },
  {
   "cell_type": "markdown",
   "id": "b4f0f639-1641-4927-a9f9-54edc742d3fc",
   "metadata": {},
   "source": [
    "Untuk memasukkan nilai pada variabel string, ada beberapa cara"
   ]
  },
  {
   "cell_type": "markdown",
   "id": "e9ef6e24-e678-4735-8439-52698827ab7f",
   "metadata": {},
   "source": [
    "+ Langsung menggabungkan variabel pada statement print()\n",
    "---"
   ]
  },
  {
   "cell_type": "code",
   "execution_count": null,
   "id": "f797a723-66a4-4a9c-975e-fa27e54d362f",
   "metadata": {},
   "outputs": [],
   "source": [
    "a = 3"
   ]
  },
  {
   "cell_type": "code",
   "execution_count": null,
   "id": "51bccfbf-f6d1-4702-bfaf-7803063d5680",
   "metadata": {},
   "outputs": [],
   "source": [
    "type(a)"
   ]
  },
  {
   "cell_type": "code",
   "execution_count": null,
   "id": "f4efa0dc-a7f5-4a80-b7e5-ba13d21f1c1a",
   "metadata": {},
   "outputs": [],
   "source": [
    "print(\"Nilai variabel a adalah\", a)"
   ]
  },
  {
   "cell_type": "code",
   "execution_count": null,
   "id": "85cb9d5e-1491-4487-8b99-108e54293827",
   "metadata": {},
   "outputs": [],
   "source": [
    "print(\"Saya tinggal di kota {}\". format(\"Jakarta\"))"
   ]
  },
  {
   "cell_type": "code",
   "execution_count": null,
   "id": "6d9d6628-3f40-4b24-9b1e-35df573352e0",
   "metadata": {},
   "outputs": [],
   "source": [
    "kota = \"Jakarta\""
   ]
  },
  {
   "cell_type": "code",
   "execution_count": null,
   "id": "3766a454-4ab8-481d-9a04-3e238feb5c3e",
   "metadata": {},
   "outputs": [],
   "source": [
    "print(\"Saya tinggal di kota\", kota)"
   ]
  },
  {
   "cell_type": "markdown",
   "id": "83a545c3-44b8-440d-95dd-cb973606e129",
   "metadata": {},
   "source": [
    "+ Untuk menampilkan text(string), bisa menggunakan mekanisme string format\n",
    "---"
   ]
  },
  {
   "cell_type": "code",
   "execution_count": null,
   "id": "87a4d7b2-b30a-4970-8f7e-bbbc7af08e39",
   "metadata": {},
   "outputs": [],
   "source": [
    "print(\"saya tinggal di kota {}\". format(kota))"
   ]
  },
  {
   "cell_type": "code",
   "execution_count": null,
   "id": "dcd9a020-2535-47b8-a8b2-46c1222f4429",
   "metadata": {},
   "outputs": [],
   "source": [
    "print(\"Kelas saya adalah {}\". format(\"Kelas B\"))"
   ]
  },
  {
   "cell_type": "markdown",
   "id": "9e6228c8-5cb0-461f-8e9c-3ae8c11adfed",
   "metadata": {},
   "source": [
    "+ Menggunakan operator '%' yang digambarkan dengan \"argumen specifiers\"\n",
    "---"
   ]
  },
  {
   "cell_type": "markdown",
   "id": "bef32f18-2934-4c46-b8f1-f6ffba9a5e4b",
   "metadata": {},
   "source": [
    "Beberapa yang sering digunakan:\n",
    "1. %s - string\n",
    "2. %d - integer\n",
    "3. %f - bilangan desimal"
   ]
  },
  {
   "cell_type": "code",
   "execution_count": null,
   "id": "a21a749f-3714-46b1-879b-9cca06efeb03",
   "metadata": {},
   "outputs": [],
   "source": [
    "nama = \"Arin\""
   ]
  },
  {
   "cell_type": "code",
   "execution_count": null,
   "id": "4c59c720-3c7b-4178-b8bf-454d05e04dab",
   "metadata": {},
   "outputs": [],
   "source": [
    "umur = 23"
   ]
  },
  {
   "cell_type": "code",
   "execution_count": null,
   "id": "3404396c-d008-430e-a48e-941c6bb68932",
   "metadata": {},
   "outputs": [],
   "source": [
    "print(\"Umur %s adalah %d tahun.\" %(nama, umur))"
   ]
  },
  {
   "cell_type": "markdown",
   "id": "9062f7d2-ec7c-4de7-9f97-8fafc0fa9230",
   "metadata": {},
   "source": [
    "#### ***Input***\n",
    "---\n",
    "Untuk memungkinkan umur memberikan input pada program anda, gunakan fungsi input() dengan argumen buka-tutup kurung \"()\" adalah teks yang ingin ditampilkan (prompt) dan variabel sebelum tanda (=) adalah penampung hasil pengguna"
   ]
  },
  {
   "cell_type": "code",
   "execution_count": null,
   "id": "e7f46c07-fdac-4e4b-81d7-7d50799040a3",
   "metadata": {},
   "outputs": [],
   "source": [
    "input()"
   ]
  },
  {
   "cell_type": "code",
   "execution_count": null,
   "id": "432946dd-5cd1-450f-bbaf-771f19399bef",
   "metadata": {},
   "outputs": [],
   "source": [
    "nama = input(\"nama saya:\")"
   ]
  },
  {
   "cell_type": "code",
   "execution_count": null,
   "id": "bfa03c9f-bd01-4d31-b37c-9d27f6774bd6",
   "metadata": {},
   "outputs": [],
   "source": [
    "print(nama)"
   ]
  },
  {
   "cell_type": "markdown",
   "id": "2bb511fa-9901-4234-a936-f2507a00e685",
   "metadata": {},
   "source": [
    "Secara default, input umur dari user adalah ***string***"
   ]
  },
  {
   "cell_type": "code",
   "execution_count": null,
   "id": "1a51d8ed-548d-449e-bc38-d147b9261dc5",
   "metadata": {},
   "outputs": [],
   "source": [
    "input()"
   ]
  },
  {
   "cell_type": "code",
   "execution_count": null,
   "id": "d71c6c6d-21e3-4aba-929f-8ca36a57fc89",
   "metadata": {},
   "outputs": [],
   "source": [
    "umur = input(\"umur saya:\")"
   ]
  },
  {
   "cell_type": "code",
   "execution_count": null,
   "id": "2927fb48-17f0-44f8-a46e-a58dee799f93",
   "metadata": {},
   "outputs": [],
   "source": [
    "print(umur)"
   ]
  },
  {
   "cell_type": "code",
   "execution_count": null,
   "id": "8f304c49-8d21-4c27-8dac-9edc340f5006",
   "metadata": {},
   "outputs": [],
   "source": [
    "angka = input()"
   ]
  },
  {
   "cell_type": "code",
   "execution_count": null,
   "id": "49b138bb-50db-4a4d-8486-7e0f1b963f5b",
   "metadata": {},
   "outputs": [],
   "source": [
    "type(angka)"
   ]
  },
  {
   "cell_type": "markdown",
   "id": "b2f6648b-fca5-4bd0-9249-d2b8665c6d5e",
   "metadata": {},
   "source": [
    "Menambahkan ***int(input())*** akan menjadikan type data menjadi ***integer***, karena semua angka apabila diberi input() maka akan menjadi string"
   ]
  },
  {
   "cell_type": "code",
   "execution_count": null,
   "id": "62ffb104-c413-44a1-90d7-6fec125c8668",
   "metadata": {},
   "outputs": [],
   "source": [
    "angka = int(input())"
   ]
  },
  {
   "cell_type": "code",
   "execution_count": null,
   "id": "e358c385-45a3-4d13-94c7-5e50b5eb17d8",
   "metadata": {},
   "outputs": [],
   "source": [
    "type(angka)"
   ]
  },
  {
   "cell_type": "markdown",
   "id": "2c7403a4-4637-48f1-87eb-da55809564eb",
   "metadata": {},
   "source": [
    "#### Task\n",
    "---"
   ]
  },
  {
   "cell_type": "code",
   "execution_count": null,
   "id": "a632a28a-3d14-491c-a1a2-41c3d46c0a41",
   "metadata": {},
   "outputs": [],
   "source": [
    "menu = 'Nasi Bakar'"
   ]
  },
  {
   "cell_type": "code",
   "execution_count": null,
   "id": "40173d2f-9482-4db6-b0db-813089805e95",
   "metadata": {},
   "outputs": [],
   "source": [
    "jumlah = 3"
   ]
  },
  {
   "cell_type": "code",
   "execution_count": null,
   "id": "39e9a376-5098-4968-b6ab-baba21b7dec2",
   "metadata": {},
   "outputs": [],
   "source": [
    "print(\"Menu %s hari ini ada %d porsi.\" %(menu, jumlah))"
   ]
  },
  {
   "cell_type": "code",
   "execution_count": null,
   "id": "5a2a10d6-2237-4f2b-be2f-37ad18eaa01f",
   "metadata": {},
   "outputs": [],
   "source": [
    "input()"
   ]
  },
  {
   "cell_type": "code",
   "execution_count": null,
   "id": "f50aeeff-1244-4eb2-b117-b537019d473f",
   "metadata": {},
   "outputs": [],
   "source": [
    "nama = input(\"Masukkan nama anda: \")"
   ]
  },
  {
   "cell_type": "code",
   "execution_count": null,
   "id": "60868134-9ba7-4506-9a30-a2b3e94e5ff9",
   "metadata": {},
   "outputs": [],
   "source": [
    "whatsapp = input(\"Masukkan nomor whatsapp anda: \")"
   ]
  },
  {
   "cell_type": "code",
   "execution_count": null,
   "id": "ca8b6800-7d3c-4ad2-9b48-73dccd3002f1",
   "metadata": {},
   "outputs": [],
   "source": [
    "email = input(\"Masukkan alamat email anda: \")"
   ]
  },
  {
   "cell_type": "code",
   "execution_count": null,
   "id": "fa3403c9-f007-4f8b-80b4-36a51deaaed8",
   "metadata": {},
   "outputs": [],
   "source": [
    "print(\"Terimakasih! Berikut informasi yang anda masukkan:\")\n",
    "print(\"Nama:\", nama)\n",
    "print(\"Nomor Whatsapp:\", whatsapp)\n",
    "print(\"Alamat Email:\", email)\n",
    "print(\"Sampai jumpa!\")"
   ]
  },
  {
   "cell_type": "code",
   "execution_count": null,
   "id": "34d4ad84-ae0d-47fb-83bc-155e9b84beef",
   "metadata": {},
   "outputs": [],
   "source": []
  }
 ],
 "metadata": {
  "kernelspec": {
   "display_name": "Python 3 (ipykernel)",
   "language": "python",
   "name": "python3"
  },
  "language_info": {
   "codemirror_mode": {
    "name": "ipython",
    "version": 3
   },
   "file_extension": ".py",
   "mimetype": "text/x-python",
   "name": "python",
   "nbconvert_exporter": "python",
   "pygments_lexer": "ipython3",
   "version": "3.11.7"
  }
 },
 "nbformat": 4,
 "nbformat_minor": 5
}
