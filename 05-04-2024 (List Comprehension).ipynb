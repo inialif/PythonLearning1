{
 "cells": [
  {
   "cell_type": "markdown",
   "id": "88408001-ca29-4b5f-bc81-ceabf46b2d7f",
   "metadata": {},
   "source": [
    "## List Comprehension \n",
    "---\n",
    "Sometimes you have to create a new list from the previous operation (Creating a list with an inline loop and if). List comprehension is a way to produce a new list based on a previously existing list or iteration"
   ]
  },
  {
   "cell_type": "code",
   "execution_count": 1,
   "id": "2d038205-9e81-4bc9-bff4-956edc244ded",
   "metadata": {},
   "outputs": [],
   "source": [
    "angka = [3, 4, 5]"
   ]
  },
  {
   "cell_type": "code",
   "execution_count": 2,
   "id": "b95fd89f-2d30-4d7a-aff0-982868e9e8e9",
   "metadata": {},
   "outputs": [],
   "source": [
    "kubik = []"
   ]
  },
  {
   "cell_type": "code",
   "execution_count": 3,
   "id": "7175f022-bf4f-47d3-bf86-81df7d697458",
   "metadata": {},
   "outputs": [
    {
     "name": "stdout",
     "output_type": "stream",
     "text": [
      "[27, 64, 125]\n"
     ]
    }
   ],
   "source": [
    "for i in angka:\n",
    "    kubik.append(i**3)\n",
    "print(kubik)"
   ]
  },
  {
   "cell_type": "markdown",
   "id": "1637b3d7-3a2c-44ed-861d-c3ffb61d37dc",
   "metadata": {},
   "source": [
    "##### writing in another way\n",
    "---\n",
    "new_list = [expression for_loop_one_or_more condition]"
   ]
  },
  {
   "cell_type": "code",
   "execution_count": 4,
   "id": "e1789642-97b3-4005-b5e1-f7d6e28dc698",
   "metadata": {},
   "outputs": [],
   "source": [
    "angka = [3, 4, 5]"
   ]
  },
  {
   "cell_type": "code",
   "execution_count": 5,
   "id": "9ecff35f-7edb-4570-a325-ff4387b0e8f3",
   "metadata": {},
   "outputs": [],
   "source": [
    "kubik = [i**3 for i in angka]"
   ]
  },
  {
   "cell_type": "code",
   "execution_count": 6,
   "id": "727ac0dd-f08f-4991-b686-549453bbd846",
   "metadata": {},
   "outputs": [
    {
     "name": "stdout",
     "output_type": "stream",
     "text": [
      "[27, 64, 125]\n"
     ]
    }
   ],
   "source": [
    "print(kubik)"
   ]
  },
  {
   "cell_type": "code",
   "execution_count": 7,
   "id": "174d0e5b-0de3-4bad-bcdb-9bd540d639f5",
   "metadata": {},
   "outputs": [
    {
     "name": "stdout",
     "output_type": "stream",
     "text": [
      "['a', 'c']\n"
     ]
    }
   ],
   "source": [
    "abc = ['a','b','c','d']\n",
    "xyz = ['a','c','x','y','z']\n",
    "\n",
    "duplikat = []\n",
    "\n",
    "for i in abc:\n",
    "    for j in xyz:\n",
    "        if i == j:\n",
    "            duplikat.append(i)\n",
    "print(duplikat)"
   ]
  },
  {
   "cell_type": "code",
   "execution_count": 8,
   "id": "38b8cf3a-8233-4d8c-9159-6ec04ec5a770",
   "metadata": {},
   "outputs": [
    {
     "name": "stdout",
     "output_type": "stream",
     "text": [
      "['a', 'c']\n"
     ]
    }
   ],
   "source": [
    "abc = ['a','b','c','d']\n",
    "xyz = ['a','c','x','y','z']\n",
    "\n",
    "duplikat = [i for i in abc for j in xyz if i == j]\n",
    "\n",
    "print(duplikat)"
   ]
  },
  {
   "cell_type": "code",
   "execution_count": 10,
   "id": "e086380d-f401-41a6-9bfb-2e209e16284d",
   "metadata": {},
   "outputs": [
    {
     "name": "stdout",
     "output_type": "stream",
     "text": [
      "['DATA', 'ANALYST']\n"
     ]
    }
   ],
   "source": [
    "data = ['data', 'analyst']\n",
    "upper = [_.upper() for _ in data]\n",
    "print(upper)"
   ]
  },
  {
   "cell_type": "markdown",
   "id": "3a81c49a-ad03-4848-bf9f-b61c2f65beff",
   "metadata": {},
   "source": [
    "+ underscore (_) includes valid variable equations\r\n",
    "+ in general (_) is usually used as a throw away variable (unimportant variable)"
   ]
  },
  {
   "cell_type": "markdown",
   "id": "99989c21-130f-44ce-b236-979b51b7f1ac",
   "metadata": {},
   "source": [
    "##### task\n",
    "---"
   ]
  },
  {
   "cell_type": "code",
   "execution_count": 11,
   "id": "79d60f53-363b-41a6-80fd-8e276410f6f3",
   "metadata": {},
   "outputs": [
    {
     "name": "stdout",
     "output_type": "stream",
     "text": [
      "[2.0, 3.0, 4.0, 5.0]\n"
     ]
    }
   ],
   "source": [
    "number = [4, 9, 16, 25]\n",
    "square_root = []\n",
    "for i in number:\n",
    "    square_root.append(i**0.5)\n",
    "print(square_root)"
   ]
  },
  {
   "cell_type": "code",
   "execution_count": 12,
   "id": "01c224b2-66eb-4cd1-95f9-401ab0cacefa",
   "metadata": {},
   "outputs": [
    {
     "name": "stdout",
     "output_type": "stream",
     "text": [
      "[2.0, 3.0, 4.0, 5.0]\n"
     ]
    }
   ],
   "source": [
    "numbers = [4, 9, 16, 25]\n",
    "square_root_numbers = [x ** 0.5 for x in numbers]\n",
    "print(square_root_numbers)"
   ]
  }
 ],
 "metadata": {
  "kernelspec": {
   "display_name": "Python 3 (ipykernel)",
   "language": "python",
   "name": "python3"
  },
  "language_info": {
   "codemirror_mode": {
    "name": "ipython",
    "version": 3
   },
   "file_extension": ".py",
   "mimetype": "text/x-python",
   "name": "python",
   "nbconvert_exporter": "python",
   "pygments_lexer": "ipython3",
   "version": "3.11.7"
  }
 },
 "nbformat": 4,
 "nbformat_minor": 5
}
