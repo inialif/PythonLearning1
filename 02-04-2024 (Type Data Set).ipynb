{
 "cells": [
  {
   "cell_type": "markdown",
   "id": "c82d2d9c-d525-4474-b3d7-03f9c27d0146",
   "metadata": {},
   "source": [
    "## ***SET DATA TYPE***\n",
    "---"
   ]
  },
  {
   "cell_type": "markdown",
   "id": "dedd17a7-865e-48ef-beb2-a63bd0d89389",
   "metadata": {},
   "source": [
    "A set is a collection of items that are unique and in the form of an unordered collection. Sets are defined with curly braces ({}) and their elements are separated with commas. In the set, intersections and combinations can be searched and duplicate data can be removed"
   ]
  },
  {
   "cell_type": "code",
   "execution_count": 3,
   "id": "be84eb0c-7b50-4dcf-b4cd-70354253fe18",
   "metadata": {},
   "outputs": [],
   "source": [
    "a = {3,3,4,4,4,5,5,5,7,7,7,10,10}"
   ]
  },
  {
   "cell_type": "code",
   "execution_count": 4,
   "id": "191269e8-3b01-47a4-8e9f-0057a01f8e5f",
   "metadata": {},
   "outputs": [
    {
     "name": "stdout",
     "output_type": "stream",
     "text": [
      "{3, 4, 5, 7, 10}\n"
     ]
    }
   ],
   "source": [
    "print(a)"
   ]
  },
  {
   "cell_type": "markdown",
   "id": "ed8e23c7-704f-4b3c-973c-a319045ed7be",
   "metadata": {},
   "source": [
    "##### Because the set is unordered, part of the data or data elements cannot be retrieved using the slicing process\n",
    "----"
   ]
  },
  {
   "cell_type": "code",
   "execution_count": 5,
   "id": "f5e336b2-4ccb-454b-a241-82faa191f425",
   "metadata": {},
   "outputs": [
    {
     "ename": "TypeError",
     "evalue": "'set' object is not subscriptable",
     "output_type": "error",
     "traceback": [
      "\u001b[1;31m---------------------------------------------------------------------------\u001b[0m",
      "\u001b[1;31mTypeError\u001b[0m                                 Traceback (most recent call last)",
      "Cell \u001b[1;32mIn[5], line 1\u001b[0m\n\u001b[1;32m----> 1\u001b[0m \u001b[38;5;28mprint\u001b[39m(a[\u001b[38;5;241m1\u001b[39m])\n",
      "\u001b[1;31mTypeError\u001b[0m: 'set' object is not subscriptable"
     ]
    }
   ],
   "source": [
    "print(a[1])"
   ]
  },
  {
   "cell_type": "markdown",
   "id": "3e57e2c2-b001-4b18-8735-ed6dacc9aeab",
   "metadata": {},
   "source": [
    "#### Union (Gabungan)\n",
    "---"
   ]
  },
  {
   "cell_type": "code",
   "execution_count": 3,
   "id": "9e0b8220-ff2a-4884-a96d-3133d7baf5e4",
   "metadata": {},
   "outputs": [],
   "source": [
    "a = {2,3,4,4,4,6,6,7,9}"
   ]
  },
  {
   "cell_type": "code",
   "execution_count": 4,
   "id": "060a28f6-a5b0-421f-b5d5-ea898664a290",
   "metadata": {},
   "outputs": [
    {
     "name": "stdout",
     "output_type": "stream",
     "text": [
      "{2, 3, 4, 6, 7, 9}\n"
     ]
    }
   ],
   "source": [
    "print(a)"
   ]
  },
  {
   "cell_type": "code",
   "execution_count": 5,
   "id": "c1fd19de-5dea-489c-93a6-294993dea976",
   "metadata": {},
   "outputs": [],
   "source": [
    "b = {3,4,4,5,5,7,7,9,9,10,11,15}"
   ]
  },
  {
   "cell_type": "code",
   "execution_count": 6,
   "id": "02e4bda9-2549-4b61-9a8a-12a88a6b8555",
   "metadata": {},
   "outputs": [
    {
     "name": "stdout",
     "output_type": "stream",
     "text": [
      "{3, 4, 5, 7, 9, 10, 11, 15}\n"
     ]
    }
   ],
   "source": [
    "print(b)"
   ]
  },
  {
   "cell_type": "code",
   "execution_count": 7,
   "id": "2c10eba4-6ba7-4205-973e-31d7f50886d4",
   "metadata": {},
   "outputs": [
    {
     "data": {
      "text/plain": [
       "{3, 4, 7, 9}"
      ]
     },
     "execution_count": 7,
     "metadata": {},
     "output_type": "execute_result"
    }
   ],
   "source": [
    "a.intersection(b)"
   ]
  },
  {
   "cell_type": "code",
   "execution_count": 10,
   "id": "60cc4d44-893b-45dd-bfc6-eb05b2596f22",
   "metadata": {},
   "outputs": [
    {
     "data": {
      "text/plain": [
       "{2, 3, 4, 5, 6, 7, 9, 10, 11, 15}"
      ]
     },
     "execution_count": 10,
     "metadata": {},
     "output_type": "execute_result"
    }
   ],
   "source": [
    "a.union(b)"
   ]
  },
  {
   "cell_type": "code",
   "execution_count": 11,
   "id": "fb2db0d5-b583-4880-a9c9-688681aeb7c8",
   "metadata": {},
   "outputs": [
    {
     "data": {
      "text/plain": [
       "{2, 3, 4, 5, 6, 7, 9, 10, 11, 15}"
      ]
     },
     "execution_count": 11,
     "metadata": {},
     "output_type": "execute_result"
    }
   ],
   "source": [
    "b.union(a)"
   ]
  },
  {
   "cell_type": "markdown",
   "id": "814b95b2-d973-4adf-8d07-6a65cb2f1563",
   "metadata": {},
   "source": [
    "#### Intersection (Irisan)\n",
    "---"
   ]
  },
  {
   "cell_type": "code",
   "execution_count": 13,
   "id": "8337e80f-4c1b-4bb9-95d6-569d19911349",
   "metadata": {},
   "outputs": [],
   "source": [
    "a = {35,100,65,50}"
   ]
  },
  {
   "cell_type": "code",
   "execution_count": 15,
   "id": "a6ab70f9-5dfe-43dc-ba9f-9b6082dd48eb",
   "metadata": {},
   "outputs": [
    {
     "name": "stdout",
     "output_type": "stream",
     "text": [
      "{65, 50, 35, 100}\n"
     ]
    }
   ],
   "source": [
    "print(a)"
   ]
  },
  {
   "cell_type": "code",
   "execution_count": 16,
   "id": "c2329667-b32a-4b1a-a320-c29eb4c29a52",
   "metadata": {},
   "outputs": [],
   "source": [
    "b = {45,35,100,40,50}"
   ]
  },
  {
   "cell_type": "code",
   "execution_count": 17,
   "id": "6ad8a1c8-8e72-497c-be64-68e00f0a6f8d",
   "metadata": {},
   "outputs": [
    {
     "name": "stdout",
     "output_type": "stream",
     "text": [
      "{50, 35, 100, 40, 45}\n"
     ]
    }
   ],
   "source": [
    "print(b)"
   ]
  },
  {
   "cell_type": "code",
   "execution_count": 18,
   "id": "d41dc203-55cc-47cf-977b-9f587d96ec46",
   "metadata": {},
   "outputs": [
    {
     "data": {
      "text/plain": [
       "{35, 50, 100}"
      ]
     },
     "execution_count": 18,
     "metadata": {},
     "output_type": "execute_result"
    }
   ],
   "source": [
    "a.intersection(b)"
   ]
  },
  {
   "cell_type": "markdown",
   "id": "4d0cdd59-08e0-4aff-99d3-38870b4b9962",
   "metadata": {},
   "source": [
    "#### Task\n",
    "---"
   ]
  },
  {
   "cell_type": "code",
   "execution_count": null,
   "id": "85ce62d7-e6ba-4bf4-ba21-0ea8d169ac5a",
   "metadata": {},
   "outputs": [],
   "source": []
  }
 ],
 "metadata": {
  "kernelspec": {
   "display_name": "Python 3 (ipykernel)",
   "language": "python",
   "name": "python3"
  },
  "language_info": {
   "codemirror_mode": {
    "name": "ipython",
    "version": 3
   },
   "file_extension": ".py",
   "mimetype": "text/x-python",
   "name": "python",
   "nbconvert_exporter": "python",
   "pygments_lexer": "ipython3",
   "version": "3.11.7"
  }
 },
 "nbformat": 4,
 "nbformat_minor": 5
}
