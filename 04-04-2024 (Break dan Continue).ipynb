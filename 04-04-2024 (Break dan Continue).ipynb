{
 "cells": [
  {
   "cell_type": "markdown",
   "id": "81fdfc2f-c70e-4f5d-a68f-e8dcf4816f8c",
   "metadata": {},
   "source": [
    "# Break\n",
    "---\n",
    "+ break statement stops the loop then exits, followed by executing the statement after the loop block\r\n",
    "+ if you have a nested loop, break will stop the loop according to the level or loop it is in\r\n",
    "+ but if it is placed in a second depth loop for example, only that loop stops, not the main loop"
   ]
  },
  {
   "cell_type": "code",
   "execution_count": 3,
   "id": "38a432b8-7c88-4536-aaa1-215e5e1e7008",
   "metadata": {},
   "outputs": [
    {
     "name": "stdout",
     "output_type": "stream",
     "text": [
      "D\n",
      "a\n",
      "t\n",
      "a\n"
     ]
    }
   ],
   "source": [
    "for i in \"Data Analyst\":\n",
    "    if i == \" \":\n",
    "        break\n",
    "    print(i)"
   ]
  },
  {
   "cell_type": "code",
   "execution_count": 4,
   "id": "6159d7e7-2404-4dc7-8242-b2bc27d3fd2d",
   "metadata": {},
   "outputs": [
    {
     "name": "stdout",
     "output_type": "stream",
     "text": [
      "10\n",
      "11\n",
      "12\n",
      "13\n",
      "14\n",
      "15\n",
      "16\n"
     ]
    }
   ],
   "source": [
    "for i in range(10,19):\n",
    "    if i == 17:\n",
    "        break\n",
    "    print(i)"
   ]
  },
  {
   "cell_type": "markdown",
   "id": "2be5a1d3-03fd-466f-9c7f-d458a3188702",
   "metadata": {},
   "source": [
    "# Continue\n",
    "---\n",
    "+ The continue statement will stop the current iteration, then continue to the next iteration\r\n",
    "+ ignore statements that are between continue and the end of the loop block"
   ]
  },
  {
   "cell_type": "code",
   "execution_count": 15,
   "id": "3daf86f1-2de5-4a6d-86c0-66ea1fe942d5",
   "metadata": {},
   "outputs": [
    {
     "name": "stdout",
     "output_type": "stream",
     "text": [
      "D\n",
      "t\n",
      " \n",
      "A\n",
      "n\n",
      "l\n",
      "s\n",
      "y\n",
      "t\n"
     ]
    }
   ],
   "source": [
    "for i in \"Data Analsyt\":\n",
    "    if i == \"a\":\n",
    "        continue\n",
    "    print(i)"
   ]
  },
  {
   "cell_type": "code",
   "execution_count": 16,
   "id": "222fb688-9093-47a2-a91d-c0b099d10320",
   "metadata": {},
   "outputs": [
    {
     "name": "stdout",
     "output_type": "stream",
     "text": [
      "1\n",
      "3\n",
      "5\n",
      "7\n",
      "9\n"
     ]
    }
   ],
   "source": [
    "for i in range(10):\n",
    "    if i % 2 == 0:  # Jika bilangan genap\n",
    "        continue    # Lewatkan iterasi saat ini\n",
    "    print(i)"
   ]
  },
  {
   "cell_type": "code",
   "execution_count": null,
   "id": "2a833588-560f-4e68-bfa9-8f800601cc33",
   "metadata": {},
   "outputs": [],
   "source": []
  }
 ],
 "metadata": {
  "kernelspec": {
   "display_name": "Python 3 (ipykernel)",
   "language": "python",
   "name": "python3"
  },
  "language_info": {
   "codemirror_mode": {
    "name": "ipython",
    "version": 3
   },
   "file_extension": ".py",
   "mimetype": "text/x-python",
   "name": "python",
   "nbconvert_exporter": "python",
   "pygments_lexer": "ipython3",
   "version": "3.11.7"
  }
 },
 "nbformat": 4,
 "nbformat_minor": 5
}
