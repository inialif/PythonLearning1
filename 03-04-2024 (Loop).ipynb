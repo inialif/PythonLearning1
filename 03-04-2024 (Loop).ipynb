{
 "cells": [
  {
   "cell_type": "markdown",
   "id": "a66f0d00-c0e1-4b1b-a70d-8b4eab803002",
   "metadata": {},
   "source": [
    "### FOR Loop\n",
    "---\n",
    "+ For is a function that can perform a loop over each type of variable in the form of a collection or sequence\r\n",
    "+ The variable in question can be a list, string, or range\r\n",
    "+ if the list or sequence is an expression, it will be evaluated first\r\n",
    "+ then, the first item in the list will be assigned as variable_var\r\n",
    "+ After that, the statement block will be executed and continue to the next item repeatedly until the sequence ends\n"
   ]
  },
  {
   "cell_type": "code",
   "execution_count": 1,
   "id": "3c384e99-ce42-4beb-a4a8-8e0ca9efdb0f",
   "metadata": {},
   "outputs": [
    {
     "name": "stdout",
     "output_type": "stream",
     "text": [
      "huruf d\n",
      "huruf a\n",
      "huruf t\n",
      "huruf a\n"
     ]
    }
   ],
   "source": [
    "for i in 'data':\n",
    "    print(\"huruf {}\". format(i))"
   ]
  },
  {
   "cell_type": "code",
   "execution_count": 2,
   "id": "7881acdb-62ee-4491-aa53-ba0c6562d8d3",
   "metadata": {},
   "outputs": [
    {
     "name": "stdout",
     "output_type": "stream",
     "text": [
      "warna merah\n",
      "warna hijau\n",
      "warna ungu\n"
     ]
    }
   ],
   "source": [
    "color = ['merah', 'hijau','ungu']\n",
    "\n",
    "for i in color:\n",
    "    print(\"warna {}\". format(i))"
   ]
  },
  {
   "cell_type": "code",
   "execution_count": 3,
   "id": "dff72a86-7867-406c-b8f8-dae2457d7f14",
   "metadata": {},
   "outputs": [
    {
     "name": "stdout",
     "output_type": "stream",
     "text": [
      "0\n",
      "1\n",
      "2\n",
      "3\n",
      "4\n"
     ]
    }
   ],
   "source": [
    "for i in range(5):\n",
    "    print(i)"
   ]
  },
  {
   "cell_type": "code",
   "execution_count": 4,
   "id": "a21f7a64-c763-428a-b515-8259147ad916",
   "metadata": {},
   "outputs": [
    {
     "name": "stdout",
     "output_type": "stream",
     "text": [
      "1\n",
      "2\n",
      "3\n",
      "4\n"
     ]
    }
   ],
   "source": [
    "for i in range(1,5):\n",
    "    print(i)"
   ]
  },
  {
   "cell_type": "code",
   "execution_count": 5,
   "id": "96a9598d-a41b-4bc8-bd51-d7e56f7139b1",
   "metadata": {},
   "outputs": [
    {
     "name": "stdout",
     "output_type": "stream",
     "text": [
      "today is math day\n",
      "today is science day\n",
      "today is history day\n"
     ]
    }
   ],
   "source": [
    "lessons = ['math', 'science', 'history']\n",
    "\n",
    "for i in lessons:\n",
    "    print(\"today is {} day\". format(i))"
   ]
  },
  {
   "cell_type": "markdown",
   "id": "5b0c5310-03ed-4ce9-b15e-cbabf8b5b314",
   "metadata": {},
   "source": [
    "#### Task\n",
    "---"
   ]
  },
  {
   "cell_type": "code",
   "execution_count": 6,
   "id": "5514987a-f3e6-49ad-bf6e-041b8870b9f5",
   "metadata": {},
   "outputs": [
    {
     "name": "stdout",
     "output_type": "stream",
     "text": [
      "Menu makanan yang tersedia saat ini:\n",
      "Menu mie ayam\n",
      "Menu bakso\n",
      "Menu ayam bakar\n",
      "Menu nasi goreng\n",
      "Menu nasi bakar\n"
     ]
    }
   ],
   "source": [
    "#Menerima input pengguna\n",
    "menu_makanan = [\"mie ayam\",\"bakso\",\"ayam bakar\",\"nasi goreng\",\"nasi bakar\"]\n",
    "\n",
    "#Mencetak menu dalam list\n",
    "print(\"Menu makanan yang tersedia saat ini:\")\n",
    "for menu in menu_makanan:\n",
    "    print(\"Menu {}\". format(menu))\n"
   ]
  },
  {
   "cell_type": "markdown",
   "id": "44de5c35-3eba-433d-87e3-a1e527a4d2fe",
   "metadata": {},
   "source": [
    "FOR Bertingkat"
   ]
  },
  {
   "cell_type": "code",
   "execution_count": 2,
   "id": "70c34ac9-3346-4ddc-a6c2-1ac98998d31b",
   "metadata": {},
   "outputs": [
    {
     "name": "stdout",
     "output_type": "stream",
     "text": [
      "* * * \n",
      "* * \n",
      "* \n"
     ]
    }
   ],
   "source": [
    "for row in range (3):\n",
    "    for col in range (3):\n",
    "        if row == 0 and col <=2:\n",
    "            print (\"*\", end = \" \")\n",
    "        elif row == 1 and col <=1:\n",
    "            print (\"*\", end = \" \")\n",
    "        elif row == 2 and col == 0:\n",
    "            print (\"*\", end = \" \")\n",
    "    print()"
   ]
  },
  {
   "cell_type": "markdown",
   "id": "5ea91fdd-5dcf-4b24-adcb-3d90cbedf5fa",
   "metadata": {},
   "source": [
    "#### Else setelah For\n",
    "---"
   ]
  },
  {
   "cell_type": "markdown",
   "id": "5853dba6-402a-4092-8a10-19137630a611",
   "metadata": {},
   "source": [
    "The else function after for is the priority function in search loops - to provide a program exit when the search is not found."
   ]
  },
  {
   "cell_type": "code",
   "execution_count": 3,
   "id": "0755f9a3-abb3-4226-814c-024b7d6fbdfb",
   "metadata": {},
   "outputs": [
    {
     "name": "stdout",
     "output_type": "stream",
     "text": [
      "1 adalah bukan genap\n",
      "2 adalah genap\n",
      "3 adalah bukan genap\n",
      "4 adalah genap\n",
      "5 adalah bukan genap\n",
      "6 adalah genap\n"
     ]
    }
   ],
   "source": [
    "for i in range(1, 7):\n",
    "    if i % 2 == 0:\n",
    "        print(\"{} adalah genap\".format(i))\n",
    "    else:\n",
    "        print(\"{} adalah bukan genap\".format(i))"
   ]
  },
  {
   "cell_type": "markdown",
   "id": "33843833-955d-48c9-9362-693ceb503847",
   "metadata": {},
   "source": [
    "##### Task\n",
    "---\n",
    "Membuat asteriks python"
   ]
  },
  {
   "cell_type": "code",
   "execution_count": 10,
   "id": "29638dac-4005-45e3-9bf4-52e14641ff67",
   "metadata": {},
   "outputs": [
    {
     "name": "stdout",
     "output_type": "stream",
     "text": [
      "* * * * * \n",
      "* * * *   \n",
      "* * *     \n",
      "* *       \n",
      "*         \n"
     ]
    }
   ],
   "source": [
    "for row in range(5):\n",
    "    for col in range(5):\n",
    "        if row == 0 and col <= 4:\n",
    "            print(\"*\", end = \" \")\n",
    "        elif row == 1 and col <= 3:\n",
    "            print(\"*\", end = \" \")\n",
    "        elif row == 2 and col <= 2:\n",
    "            print(\"*\", end = \" \")\n",
    "        elif row == 3 and col <= 1:\n",
    "            print(\"*\", end = \" \")\n",
    "        elif row == 4 and col <= 0:\n",
    "            print(\"*\", end = \" \")\n",
    "        else:\n",
    "            print(\" \", end=\" \")\n",
    "    print()"
   ]
  },
  {
   "cell_type": "code",
   "execution_count": null,
   "id": "a36d2c9c-685e-44a0-b13d-52835bbd1085",
   "metadata": {},
   "outputs": [],
   "source": []
  },
  {
   "cell_type": "code",
   "execution_count": 11,
   "id": "18bee281-fa67-4891-b7db-a4a91e8e5879",
   "metadata": {},
   "outputs": [
    {
     "name": "stdout",
     "output_type": "stream",
     "text": [
      "1 Sisa pembagiannya adalah 1 jika dibagi oleh 3\n",
      "2 Sisa pembagiannya adalah 2 jika dibagi oleh 3\n",
      "3 Habis dibagi oleh 3\n",
      "4 Sisa pembagiannya adalah 1 jika dibagi oleh 3\n",
      "5 Sisa pembagiannya adalah 2 jika dibagi oleh 3\n",
      "6 Habis dibagi oleh 3\n",
      "7 Sisa pembagiannya adalah 1 jika dibagi oleh 3\n",
      "8 Sisa pembagiannya adalah 2 jika dibagi oleh 3\n"
     ]
    }
   ],
   "source": [
    "for i in range(1,9):\n",
    "    if i % 3 == 0:\n",
    "        print(\"{} Habis dibagi oleh 3\".format(i))\n",
    "    elif i % 3 == 1:\n",
    "        print(\"{} Sisa pembagiannya adalah 1 jika dibagi oleh 3\".format(i))\n",
    "    else:\n",
    "        print(\"{} Sisa pembagiannya adalah 2 jika dibagi oleh 3\".format(i))"
   ]
  },
  {
   "cell_type": "code",
   "execution_count": 13,
   "id": "82959339-234b-4b9e-9ada-27c0b13418c1",
   "metadata": {},
   "outputs": [
    {
     "name": "stdout",
     "output_type": "stream",
     "text": [
      "1 tidak habis dibagi 3\n",
      "2 tidak habis dibagi 3\n",
      "3 habis dibagi 3\n",
      "4 tidak habis dibagi 3\n",
      "5 tidak habis dibagi 3\n",
      "6 habis dibagi 3\n",
      "7 tidak habis dibagi 3\n",
      "8 tidak habis dibagi 3\n"
     ]
    }
   ],
   "source": [
    "for x in range(1,9):\n",
    "    if x % 3 == 0:\n",
    "        print(\"{} habis dibagi 3\".format(x))\n",
    "    else:\n",
    "        print(\"{} tidak habis dibagi 3\".format(x))"
   ]
  },
  {
   "cell_type": "code",
   "execution_count": null,
   "id": "00969293-0817-4e0a-b73e-f622543a4aa5",
   "metadata": {},
   "outputs": [],
   "source": []
  }
 ],
 "metadata": {
  "kernelspec": {
   "display_name": "Python 3 (ipykernel)",
   "language": "python",
   "name": "python3"
  },
  "language_info": {
   "codemirror_mode": {
    "name": "ipython",
    "version": 3
   },
   "file_extension": ".py",
   "mimetype": "text/x-python",
   "name": "python",
   "nbconvert_exporter": "python",
   "pygments_lexer": "ipython3",
   "version": "3.11.7"
  }
 },
 "nbformat": 4,
 "nbformat_minor": 5
}
