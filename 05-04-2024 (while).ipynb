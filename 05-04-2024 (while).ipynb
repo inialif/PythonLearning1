{
 "cells": [
  {
   "cell_type": "markdown",
   "id": "d4196f2b-9d9e-4635-9543-600f89c1a5df",
   "metadata": {},
   "source": [
    "## While\n",
    "---\n",
    "+ while in python is used to execute a statement as long as the given condition meets (True)\r\n",
    "The + condition can be any expression, and please remember that True in python includes all non-zero values\r\n",
    "+ when the condition becomes false, the program will continue to the line after the statement block"
   ]
  },
  {
   "cell_type": "code",
   "execution_count": null,
   "id": "368d2518-5731-49b4-893e-e00521ae21c4",
   "metadata": {},
   "outputs": [],
   "source": [
    "angka = int(input())\n",
    "\n",
    "while (angka < 3):\n",
    "    print(\"bilangan {}\". format(angka))\n",
    "    angka = angka + 1"
   ]
  },
  {
   "cell_type": "code",
   "execution_count": null,
   "id": "496fb977-e74b-44cb-a32d-b39cd08070c8",
   "metadata": {},
   "outputs": [],
   "source": [
    "angka = int(input())\n",
    "\n",
    "while (angka < 10):\n",
    "    print(\"bilangan {}\".format(angka))\n",
    "    angka = angka + 2"
   ]
  },
  {
   "cell_type": "markdown",
   "id": "1a0eedef-ef0e-4648-b03f-0bc52102b625",
   "metadata": {},
   "source": [
    "Be careful the repeated iterations are endless:"
   ]
  },
  {
   "cell_type": "code",
   "execution_count": null,
   "id": "824e8455-6294-449a-969e-444b10932777",
   "metadata": {},
   "outputs": [],
   "source": [
    "# angka = int(input())\n",
    "\n",
    "# while(angka < 3):\n",
    "#     print(\"bilangan\")"
   ]
  },
  {
   "cell_type": "markdown",
   "id": "c356a9d6-44da-4298-a37b-3a07d765806a",
   "metadata": {},
   "source": [
    "#### task\n",
    "---"
   ]
  },
  {
   "cell_type": "code",
   "execution_count": null,
   "id": "b7fa7f51-73f8-4cf7-98c9-e5c8c8a46a28",
   "metadata": {},
   "outputs": [],
   "source": [
    "# Menghitung Jumlah\n",
    "num = 5\n",
    "factorial = 1 \n",
    "\n",
    "while num > 0:\n",
    "    factorial *= num\n",
    "    num -= 1\n",
    "print(\"factorial dari 5 adalah: \", factorial)"
   ]
  },
  {
   "cell_type": "code",
   "execution_count": null,
   "id": "e228aaf4-8205-4149-86ff-de0ae952b08a",
   "metadata": {},
   "outputs": [],
   "source": [
    "countdown = 5\n",
    "\n",
    "while countdown > 0:\n",
    "    print(countdown)\n",
    "    countdown -= 1\n",
    "\n",
    "print(\"Lift off!\")"
   ]
  },
  {
   "cell_type": "markdown",
   "id": "7beeacbc-dff1-4462-9ac2-c6e08fd79c64",
   "metadata": {},
   "source": [
    "### Else setelah While\n",
    "---\n",
    "in the while statement, the else statement block will always be executed when the while condition becomes false"
   ]
  },
  {
   "cell_type": "code",
   "execution_count": null,
   "id": "917e9956-3a1a-46fb-bc64-e85896ca14be",
   "metadata": {},
   "outputs": [],
   "source": [
    "angka = int(input())\n",
    "\n",
    "while(angka < 10):\n",
    "    angka = angka + 2\n",
    "    if angka == 6:\n",
    "        break\n",
    "    print(angka)\n",
    "else:\n",
    "    print(\"loop selesai!\")"
   ]
  },
  {
   "cell_type": "markdown",
   "id": "5f7fb7ed-cbe7-4e7a-b6b0-537757955982",
   "metadata": {},
   "source": [
    "#### task\n",
    "---"
   ]
  },
  {
   "cell_type": "code",
   "execution_count": null,
   "id": "19d04d64-1ec9-46d4-a582-44467b666a19",
   "metadata": {},
   "outputs": [],
   "source": [
    "#mencari bilangan prima\n",
    "\n",
    "num =10\n",
    "is_prime = True\n",
    "\n",
    "while num > 1:\n",
    "    for i in range(3, num):\n",
    "        if num % i == 0:\n",
    "            print(num, \"bukan bilangan prima\")\n",
    "        else:\n",
    "            print(num, \"adalah bilangan prima\")\n",
    "        num -= 1"
   ]
  },
  {
   "cell_type": "code",
   "execution_count": null,
   "id": "819a2cad-58c6-4be3-b63c-c2c771dd34f6",
   "metadata": {},
   "outputs": [],
   "source": [
    "number = int(input())\n",
    "             \n",
    "while (number < 20):\n",
    "    if number == 16:\n",
    "        break\n",
    "    number = number + 4\n",
    "    print(number)\n",
    "else:\n",
    "    print(\"Loop End\")"
   ]
  },
  {
   "cell_type": "code",
   "execution_count": null,
   "id": "900851aa-d24f-4872-97bf-dce9482f6bb5",
   "metadata": {},
   "outputs": [],
   "source": []
  }
 ],
 "metadata": {
  "kernelspec": {
   "display_name": "Python 3 (ipykernel)",
   "language": "python",
   "name": "python3"
  },
  "language_info": {
   "codemirror_mode": {
    "name": "ipython",
    "version": 3
   },
   "file_extension": ".py",
   "mimetype": "text/x-python",
   "name": "python",
   "nbconvert_exporter": "python",
   "pygments_lexer": "ipython3",
   "version": "3.11.7"
  }
 },
 "nbformat": 4,
 "nbformat_minor": 5
}
