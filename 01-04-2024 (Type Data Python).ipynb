{
 "cells": [
  {
   "cell_type": "markdown",
   "id": "8823dc35-ac65-43a3-9976-ea9383ec6b02",
   "metadata": {},
   "source": [
    "#**PYTHON DATA TYPES**\n",
    "---\n",
    "---\n",
    "1. Numbers\n",
    "2. String\n",
    "3. Boolean\n",
    "\r\n"
   ]
  },
  {
   "cell_type": "markdown",
   "id": "c1e24778-908a-4585-adab-5d316dbb739c",
   "metadata": {
    "jp-MarkdownHeadingCollapsed": true
   },
   "source": [
    "##### ***1. Numbers***\n",
    "---\n",
    "   Number data types are divided into three, namely: Integer, Float, and Complex"
   ]
  },
  {
   "cell_type": "markdown",
   "id": "28baaf56-dce1-4dd0-916c-109665086d44",
   "metadata": {},
   "source": [
    "##### Integer(int)\n",
    "---"
   ]
  },
  {
   "cell_type": "code",
   "execution_count": 1,
   "id": "837fbf05-655a-44a1-8c25-87d9be0d6b32",
   "metadata": {},
   "outputs": [],
   "source": [
    "a = 10"
   ]
  },
  {
   "cell_type": "code",
   "execution_count": 2,
   "id": "eb2804cb-5542-4823-82b0-4ea0ca23ad3b",
   "metadata": {},
   "outputs": [
    {
     "data": {
      "text/plain": [
       "int"
      ]
     },
     "execution_count": 2,
     "metadata": {},
     "output_type": "execute_result"
    }
   ],
   "source": [
    "type (a)"
   ]
  },
  {
   "cell_type": "markdown",
   "id": "bbdc433a-379a-4e2f-ac54-0941d4abf3ea",
   "metadata": {},
   "source": [
    "##### Float\n",
    "---"
   ]
  },
  {
   "cell_type": "code",
   "execution_count": 3,
   "id": "16225b8b-29d4-4e04-a637-9771ec96f247",
   "metadata": {},
   "outputs": [],
   "source": [
    "b = 1.7"
   ]
  },
  {
   "cell_type": "code",
   "execution_count": 4,
   "id": "90f2d579-5966-435c-b34e-8d970e3ce4e1",
   "metadata": {},
   "outputs": [
    {
     "data": {
      "text/plain": [
       "float"
      ]
     },
     "execution_count": 4,
     "metadata": {},
     "output_type": "execute_result"
    }
   ],
   "source": [
    "type(b)"
   ]
  },
  {
   "cell_type": "markdown",
   "id": "30259952-118b-42df-a5f5-1a082dc125cf",
   "metadata": {},
   "source": [
    "What differentiates an integer and a float is the decimal point"
   ]
  },
  {
   "cell_type": "markdown",
   "id": "fc6ccb13-fb45-463a-ade7-1597651fd05d",
   "metadata": {},
   "source": [
    "##### Complex\n",
    "---\n",
    "The value of an imaginary number is denoted by ( x + yj ), with x being a real number and y being an imaginary number"
   ]
  },
  {
   "cell_type": "code",
   "execution_count": 5,
   "id": "04e9a713-db9e-4cc1-a95e-2668402ed144",
   "metadata": {},
   "outputs": [],
   "source": [
    "c = 1 + 2j"
   ]
  },
  {
   "cell_type": "code",
   "execution_count": 6,
   "id": "92b522c3-4ae7-47fd-9fc5-a2f92049cb34",
   "metadata": {},
   "outputs": [
    {
     "data": {
      "text/plain": [
       "complex"
      ]
     },
     "execution_count": 6,
     "metadata": {},
     "output_type": "execute_result"
    }
   ],
   "source": [
    "type (c)"
   ]
  },
  {
   "cell_type": "markdown",
   "id": "f887e8ac-57da-45b1-af70-a8fe581e1938",
   "metadata": {},
   "source": [
    "##### ***2. String***\n",
    "---\n",
    "String is a data type based on a sequence of Unicode characters declared with single or double quotes. String > 1 line can be marked with ''' or \"\"\""
   ]
  },
  {
   "cell_type": "code",
   "execution_count": 7,
   "id": "249fb990-ccd0-41f3-a4ae-6d198f47b480",
   "metadata": {},
   "outputs": [],
   "source": [
    "a = 'Hello World'"
   ]
  },
  {
   "cell_type": "code",
   "execution_count": 8,
   "id": "7ff775c1-edd8-4ea8-a47e-6466c72b6c18",
   "metadata": {},
   "outputs": [
    {
     "name": "stdout",
     "output_type": "stream",
     "text": [
      "Hello World\n"
     ]
    }
   ],
   "source": [
    "print (a)"
   ]
  },
  {
   "cell_type": "code",
   "execution_count": 9,
   "id": "c9a012b3-6445-414b-9a31-8058ab5fb5b0",
   "metadata": {},
   "outputs": [
    {
     "data": {
      "text/plain": [
       "str"
      ]
     },
     "execution_count": 9,
     "metadata": {},
     "output_type": "execute_result"
    }
   ],
   "source": [
    "type (a)"
   ]
  },
  {
   "cell_type": "code",
   "execution_count": 10,
   "id": "9b3684ed-4d1e-4935-a9d8-8a0aabeb04cc",
   "metadata": {},
   "outputs": [],
   "source": [
    "a = \"Halo, perkenalkan saya adaah seorang mahasiswa di Indonesia\""
   ]
  },
  {
   "cell_type": "code",
   "execution_count": 11,
   "id": "deb5578e-11f4-4b4f-8216-67d4a717e92a",
   "metadata": {},
   "outputs": [
    {
     "name": "stdout",
     "output_type": "stream",
     "text": [
      "Halo, perkenalkan saya adaah seorang mahasiswa di Indonesia\n"
     ]
    }
   ],
   "source": [
    "print (a)"
   ]
  },
  {
   "cell_type": "code",
   "execution_count": 12,
   "id": "20133920-0af2-49f2-92df-ae532cf96938",
   "metadata": {},
   "outputs": [],
   "source": [
    "a = '''Hari ini adalah hari senin\n",
    "Besok hari selasa'''"
   ]
  },
  {
   "cell_type": "code",
   "execution_count": 13,
   "id": "91d0cbe4-0f01-4ff0-a70e-03f311c8115c",
   "metadata": {},
   "outputs": [
    {
     "name": "stdout",
     "output_type": "stream",
     "text": [
      "Hari ini adalah hari senin\n",
      "Besok hari selasa\n"
     ]
    }
   ],
   "source": [
    "print (a)"
   ]
  },
  {
   "cell_type": "code",
   "execution_count": 14,
   "id": "2fe6de10-d369-4f4c-8be9-7a8f490267ef",
   "metadata": {},
   "outputs": [],
   "source": [
    "b = 'Pathway Data Analyst. \\nKampus Merdeka x MyEduSolve'"
   ]
  },
  {
   "cell_type": "code",
   "execution_count": 15,
   "id": "afdfe9e5-3c3f-49a3-a891-85eabe4bd66a",
   "metadata": {},
   "outputs": [
    {
     "name": "stdout",
     "output_type": "stream",
     "text": [
      "Pathway Data Analyst. \n",
      "Kampus Merdeka x MyEduSolve\n"
     ]
    }
   ],
   "source": [
    "print (b)"
   ]
  },
  {
   "cell_type": "code",
   "execution_count": null,
   "id": "f0839398-0ea3-453b-8425-ca4cad67b681",
   "metadata": {},
   "outputs": [],
   "source": [
    "print (\"Jum'at\")"
   ]
  },
  {
   "cell_type": "code",
   "execution_count": null,
   "id": "f7f03f77-0421-4d34-8974-e747f2fa32cb",
   "metadata": {},
   "outputs": [],
   "source": [
    "\"Jum'at\""
   ]
  },
  {
   "cell_type": "markdown",
   "id": "917574f6-3caf-4a5e-bc13-3f2525e4ea99",
   "metadata": {},
   "source": [
    "##### ***3. Boolean/Bool***\n",
    "---\n",
    "Boolean or Bool is a data type derived from integers which only has two constants, namely: True and False."
   ]
  },
  {
   "cell_type": "code",
   "execution_count": 16,
   "id": "f961856d-e785-4b19-b701-887f7f10e7fb",
   "metadata": {},
   "outputs": [
    {
     "data": {
      "text/plain": [
       "False"
      ]
     },
     "execution_count": 16,
     "metadata": {},
     "output_type": "execute_result"
    }
   ],
   "source": [
    "3 > 5"
   ]
  },
  {
   "cell_type": "code",
   "execution_count": 17,
   "id": "f1682921-518d-4ae6-8739-30aa1f03bfa6",
   "metadata": {},
   "outputs": [
    {
     "data": {
      "text/plain": [
       "False"
      ]
     },
     "execution_count": 17,
     "metadata": {},
     "output_type": "execute_result"
    }
   ],
   "source": [
    "3 == 5"
   ]
  },
  {
   "cell_type": "markdown",
   "id": "a5527bbd-ae16-42d5-968c-ba4018d45a6c",
   "metadata": {},
   "source": [
    "you have to use (==) because if you use just one sign it is only to describe the variable"
   ]
  },
  {
   "cell_type": "code",
   "execution_count": 18,
   "id": "7d8b9459-b9c4-4593-aa47-b2114a48297b",
   "metadata": {},
   "outputs": [
    {
     "data": {
      "text/plain": [
       "True"
      ]
     },
     "execution_count": 18,
     "metadata": {},
     "output_type": "execute_result"
    }
   ],
   "source": [
    "3 <= 5"
   ]
  },
  {
   "cell_type": "code",
   "execution_count": 19,
   "id": "a538ff47-057b-449c-8594-73496990c861",
   "metadata": {},
   "outputs": [
    {
     "data": {
      "text/plain": [
       "True"
      ]
     },
     "execution_count": 19,
     "metadata": {},
     "output_type": "execute_result"
    }
   ],
   "source": [
    "3 != 5"
   ]
  },
  {
   "cell_type": "markdown",
   "id": "ea47bd57-9fcb-467f-b209-cb257fcdd42d",
   "metadata": {},
   "source": [
    "Tipe data pada phyton\n",
    "\n",
    "1. List\n",
    "2. String\n",
    "3. Tuple\n",
    "4. Set\n",
    "5. Dictionary"
   ]
  },
  {
   "cell_type": "markdown",
   "id": "7b2f1edf-6dda-4655-a5c6-e0767948ab7a",
   "metadata": {},
   "source": [
    "1. List\n",
    "\n",
    "List merupakan jenis kumpulan data terurut dan merupakan salah satu variabel yang sering digunakan pada python. Serupa, nanum tidak sama dengan array pada bahasa pemrograman lain. Bedanya, element List pada Python tidak harus memiliki tipe data yang sama . Mendeklarasikan List cukup dengan kurung siku ([]) atau dengan elemen yang dipisahkan dengan koma (,)"
   ]
  },
  {
   "cell_type": "code",
   "execution_count": null,
   "id": "1fa8b33f-9ec4-4797-8d0e-3cf501360c74",
   "metadata": {},
   "outputs": [],
   "source": [
    "a = [5, 6.7, 'delapan']"
   ]
  },
  {
   "cell_type": "code",
   "execution_count": null,
   "id": "b7d9f30b-d298-4b92-b72e-981af15edd39",
   "metadata": {},
   "outputs": [],
   "source": [
    "print(a)"
   ]
  },
  {
   "cell_type": "code",
   "execution_count": null,
   "id": "e5829ef6-f7f3-4f20-a263-9f7976252f16",
   "metadata": {},
   "outputs": [],
   "source": [
    "type(a)"
   ]
  },
  {
   "cell_type": "markdown",
   "id": "6507ecff-cac3-4ecb-b40a-15fe207f18cb",
   "metadata": {},
   "source": [
    "setiap data di dalamnya dapat diakses dengan indeks yang dimulai dari 0"
   ]
  },
  {
   "cell_type": "markdown",
   "id": "d3a38bf5-ef82-44be-b017-3437cd5ab03d",
   "metadata": {},
   "source": [
    "a[0]"
   ]
  },
  {
   "cell_type": "code",
   "execution_count": null,
   "id": "bf553f6e-e6e2-4097-9996-d81b0bbbf017",
   "metadata": {},
   "outputs": [],
   "source": [
    "a[1]"
   ]
  },
  {
   "cell_type": "code",
   "execution_count": null,
   "id": "4e0cca8a-920f-4526-908b-7dc2d6d5f573",
   "metadata": {},
   "outputs": [],
   "source": [
    "a[2]"
   ]
  },
  {
   "cell_type": "code",
   "execution_count": null,
   "id": "c23d8074-f654-44f0-85ad-4647a1a186fd",
   "metadata": {},
   "outputs": [],
   "source": [
    "type(a[0])"
   ]
  },
  {
   "cell_type": "code",
   "execution_count": null,
   "id": "41748fde-f3ca-47f7-a1ed-331eb4ecfb87",
   "metadata": {},
   "outputs": [],
   "source": [
    "type(a[1])"
   ]
  },
  {
   "cell_type": "code",
   "execution_count": null,
   "id": "099c6da3-def1-48f3-8a8a-7dc7380352e1",
   "metadata": {},
   "outputs": [],
   "source": [
    "type(a[2])"
   ]
  },
  {
   "cell_type": "markdown",
   "id": "a86424c4-27fa-41fd-a7ed-2d350f4c1733",
   "metadata": {},
   "source": [
    "2. Tuple\n",
    "\n",
    "Tuple merupakan jenis dari list yang tidak dapay diubah elemennya, umunya digunakan untik data yang bersifat sekali tulis dapat dieksekusi lebih cepat. Tuple didefinisikan oleh tanda kurung dan dipisahkan oleh koma"
   ]
  },
  {
   "cell_type": "code",
   "execution_count": null,
   "id": "032c9732-0bac-4953-8089-1095df0aa535",
   "metadata": {},
   "outputs": [],
   "source": [
    "a = (2, \"buku\", )"
   ]
  },
  {
   "cell_type": "code",
   "execution_count": null,
   "id": "d05d09da-1348-4d31-99a0-fc3c3122d44c",
   "metadata": {},
   "outputs": [],
   "source": [
    "print(a)"
   ]
  },
  {
   "cell_type": "markdown",
   "id": "2ea75fa4-06fe-490d-a039-108fbc957112",
   "metadata": {},
   "source": [
    "seperti list, kita dapat melakukan slicing, tapi pada tuple tidak dapat melakukan perubahan"
   ]
  },
  {
   "cell_type": "code",
   "execution_count": null,
   "id": "fb6f7390-d138-49e2-8f57-f3cbc4506542",
   "metadata": {},
   "outputs": [],
   "source": [
    "print(a[1])"
   ]
  },
  {
   "cell_type": "code",
   "execution_count": null,
   "id": "ad1bf4e4-2c44-4239-9649-f62be93f3abd",
   "metadata": {},
   "outputs": [],
   "source": [
    "print (a[0:2])"
   ]
  },
  {
   "cell_type": "code",
   "execution_count": null,
   "id": "0b11a109-6fe2-483e-a21b-23f37a8d232b",
   "metadata": {},
   "outputs": [],
   "source": [
    "print (a[0:2]=10)"
   ]
  },
  {
   "cell_type": "markdown",
   "id": "6efe212f-6f6b-469f-baca-5e798cef01ef",
   "metadata": {},
   "source": [
    "3. Set\n",
    "\n",
    "set merupakan kumpulan item yang bersifat unik dan berupa urutan (unordered collection). Set didefinisikan dengan tanda kurung kurawal ({}) dan elemennya dipisahkan dengan tanda koma. Pada set dapat dicari irisan dan gabungannya sekaligus melakukan penghapusan data duplikat"
   ]
  },
  {
   "cell_type": "code",
   "execution_count": null,
   "id": "59ce7209-ff60-4dfb-99f1-89f0b9161a18",
   "metadata": {},
   "outputs": [],
   "source": [
    "a = {4,4,4,5,5,5,6,6,7,7,}"
   ]
  },
  {
   "cell_type": "code",
   "execution_count": null,
   "id": "da3517b5-5d00-4aa8-ac13-24eb5175d47a",
   "metadata": {},
   "outputs": [],
   "source": [
    "print (a)"
   ]
  },
  {
   "cell_type": "markdown",
   "id": "49379198-2972-4abb-8ab3-bc92a1f37260",
   "metadata": {},
   "source": [
    "karena set bersifat unordered, maka tidak bisa diambil sebagian data atau elemen datanya menggunakan proses slicing"
   ]
  },
  {
   "cell_type": "code",
   "execution_count": null,
   "id": "a84fef28-e4f1-4fff-beeb-aa83368996e6",
   "metadata": {},
   "outputs": [],
   "source": [
    "print (a[1])"
   ]
  },
  {
   "cell_type": "markdown",
   "id": "5489c6c9-cfd4-41ab-9cf8-de5025a4b4ce",
   "metadata": {},
   "source": [
    "Union (Gabungan)"
   ]
  },
  {
   "cell_type": "code",
   "execution_count": null,
   "id": "32d9c5fc-48a8-417a-b30e-d3b52290117a",
   "metadata": {},
   "outputs": [],
   "source": [
    "a = {1,2,3}"
   ]
  },
  {
   "cell_type": "code",
   "execution_count": null,
   "id": "621bee94-dadb-44b9-adaf-f946718818db",
   "metadata": {},
   "outputs": [],
   "source": [
    "print(a)"
   ]
  },
  {
   "cell_type": "code",
   "execution_count": null,
   "id": "4705eb88-e2cd-46c2-bb91-10d520c93205",
   "metadata": {},
   "outputs": [],
   "source": [
    "b = {2,3,4,5}"
   ]
  },
  {
   "cell_type": "code",
   "execution_count": null,
   "id": "7b80eab5-5332-4176-b71c-c288a9127911",
   "metadata": {},
   "outputs": [],
   "source": [
    "print (b)"
   ]
  },
  {
   "cell_type": "code",
   "execution_count": null,
   "id": "1a45de6d-e696-47b0-ac7f-7de263343f89",
   "metadata": {},
   "outputs": [],
   "source": [
    "a.union(b)"
   ]
  },
  {
   "cell_type": "raw",
   "id": "e35c8897-dfcc-4bb2-851b-87a1ee553762",
   "metadata": {},
   "source": [
    "Intersection (irisan)"
   ]
  },
  {
   "cell_type": "code",
   "execution_count": null,
   "id": "044e1447-027c-46e3-8eec-2dbb875c4d5a",
   "metadata": {},
   "outputs": [],
   "source": [
    "a. intersection (b)"
   ]
  },
  {
   "cell_type": "code",
   "execution_count": null,
   "id": "49b3e659-a41c-4d69-a428-8a72cff1bdbb",
   "metadata": {},
   "outputs": [],
   "source": [
    "a = {35,18,100,50}"
   ]
  },
  {
   "cell_type": "code",
   "execution_count": null,
   "id": "3fb62bcd-9aad-45a7-8710-9d2c352a2826",
   "metadata": {},
   "outputs": [],
   "source": [
    "print(a)"
   ]
  },
  {
   "cell_type": "markdown",
   "id": "e12bbe10-133f-472b-bf21-77e674e144b9",
   "metadata": {},
   "source": [
    "4. Dictionary\n"
   ]
  },
  {
   "cell_type": "markdown",
   "id": "ce925dc0-2f78-4ceb-b603-53d367168594",
   "metadata": {},
   "source": [
    "Dictionary pada python merupakan kumpulan pasangan kunci - nilai (part of key - value) yang bersifat tidak berurutan. Dictionary dapat digunakan untuk menyimpan data kecil hingga besar. Untuk mengakses datanya, terlebih dahulu harus mengetahui kuncinya (key). Dictionary didefinisikan dengan kurung kurawal ({}) dam tambahan definisi sebagi berikut:\n",
    "\n",
    "- setiap elemen key - value dipisahkan dengan koma (,)\n",
    "- key dan value dipisahkan dengan tanda titik dua (:)\n",
    "- key dan value dapat berupa objek / variabel apapun"
   ]
  },
  {
   "cell_type": "code",
   "execution_count": 20,
   "id": "5e012e3c-58e9-4014-80bf-695debe17ab1",
   "metadata": {},
   "outputs": [],
   "source": [
    "b = {\"nama\" : \"Arin\", \"usia\" : 25 }"
   ]
  },
  {
   "cell_type": "code",
   "execution_count": 21,
   "id": "6ded4d39-6b9f-46dc-8634-17c74afe319e",
   "metadata": {},
   "outputs": [
    {
     "data": {
      "text/plain": [
       "dict"
      ]
     },
     "execution_count": 21,
     "metadata": {},
     "output_type": "execute_result"
    }
   ],
   "source": [
    "type(b)"
   ]
  },
  {
   "cell_type": "code",
   "execution_count": 22,
   "id": "5b93737e-a5c9-4ec4-99d3-ed051a9fd640",
   "metadata": {},
   "outputs": [
    {
     "data": {
      "text/plain": [
       "'Arin'"
      ]
     },
     "execution_count": 22,
     "metadata": {},
     "output_type": "execute_result"
    }
   ],
   "source": [
    "b[\"nama\"]"
   ]
  },
  {
   "cell_type": "code",
   "execution_count": 23,
   "id": "eafd208d-07a9-402b-a025-d432cfec6649",
   "metadata": {},
   "outputs": [
    {
     "ename": "TypeError",
     "evalue": "string indices must be integers, not 'str'",
     "output_type": "error",
     "traceback": [
      "\u001b[1;31m---------------------------------------------------------------------------\u001b[0m",
      "\u001b[1;31mTypeError\u001b[0m                                 Traceback (most recent call last)",
      "Cell \u001b[1;32mIn[23], line 1\u001b[0m\n\u001b[1;32m----> 1\u001b[0m a[\u001b[38;5;124m\"\u001b[39m\u001b[38;5;124mArin\u001b[39m\u001b[38;5;124m\"\u001b[39m]\n",
      "\u001b[1;31mTypeError\u001b[0m: string indices must be integers, not 'str'"
     ]
    }
   ],
   "source": [
    "a[\"Arin\"]"
   ]
  },
  {
   "cell_type": "code",
   "execution_count": 28,
   "id": "3855964c-fd36-421b-9d88-2ee3636a086c",
   "metadata": {},
   "outputs": [
    {
     "ename": "KeyError",
     "evalue": "'usia'",
     "output_type": "error",
     "traceback": [
      "\u001b[1;31m---------------------------------------------------------------------------\u001b[0m",
      "\u001b[1;31mKeyError\u001b[0m                                  Traceback (most recent call last)",
      "Cell \u001b[1;32mIn[28], line 1\u001b[0m\n\u001b[1;32m----> 1\u001b[0m b[\u001b[38;5;124m\"\u001b[39m\u001b[38;5;124musia\u001b[39m\u001b[38;5;124m\"\u001b[39m]\n",
      "\u001b[1;31mKeyError\u001b[0m: 'usia'"
     ]
    }
   ],
   "source": [
    "b[\"usia\"]"
   ]
  },
  {
   "cell_type": "markdown",
   "id": "189a0b1f-1051-4158-9349-9570147df789",
   "metadata": {},
   "source": [
    "Dictionary bukan termasuk dalam kategori urutan (sequences), sehingga tidak bia dipanggil dengan indeks. Misalnya dengan contoh indeks 0, maka akan mengahsilkan error (Keyerror) karena tidak ada kunci (key) 0."
   ]
  },
  {
   "cell_type": "code",
   "execution_count": 24,
   "id": "04d1dd98-77cb-4ad1-8c82-781fec0ce2f7",
   "metadata": {},
   "outputs": [
    {
     "data": {
      "text/plain": [
       "'H'"
      ]
     },
     "execution_count": 24,
     "metadata": {},
     "output_type": "execute_result"
    }
   ],
   "source": [
    "a[0]"
   ]
  },
  {
   "cell_type": "code",
   "execution_count": 25,
   "id": "50bfc436-93d1-4510-becd-9ec4657dde0c",
   "metadata": {},
   "outputs": [],
   "source": [
    "b = {\"nama\" : {\"nama_1\" : \"Silla\", \"nama_2\" : \"Arin\"}}"
   ]
  },
  {
   "cell_type": "code",
   "execution_count": 26,
   "id": "6882ef70-276e-435b-bb63-fe29f66e802e",
   "metadata": {},
   "outputs": [
    {
     "data": {
      "text/plain": [
       "'Silla'"
      ]
     },
     "execution_count": 26,
     "metadata": {},
     "output_type": "execute_result"
    }
   ],
   "source": [
    "b['nama']['nama_1']"
   ]
  },
  {
   "cell_type": "code",
   "execution_count": 27,
   "id": "cc589ffc-3392-4360-9ed6-4076d041e9db",
   "metadata": {},
   "outputs": [
    {
     "data": {
      "text/plain": [
       "'Arin'"
      ]
     },
     "execution_count": 27,
     "metadata": {},
     "output_type": "execute_result"
    }
   ],
   "source": [
    "b['nama']['nama_2']"
   ]
  },
  {
   "cell_type": "code",
   "execution_count": null,
   "id": "49ca95ea-5631-4d42-992f-70edd0518896",
   "metadata": {},
   "outputs": [],
   "source": []
  }
 ],
 "metadata": {
  "kernelspec": {
   "display_name": "Python 3 (ipykernel)",
   "language": "python",
   "name": "python3"
  },
  "language_info": {
   "codemirror_mode": {
    "name": "ipython",
    "version": 3
   },
   "file_extension": ".py",
   "mimetype": "text/x-python",
   "name": "python",
   "nbconvert_exporter": "python",
   "pygments_lexer": "ipython3",
   "version": "3.11.7"
  }
 },
 "nbformat": 4,
 "nbformat_minor": 5
}
