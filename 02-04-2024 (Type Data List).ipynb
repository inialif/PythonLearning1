{
 "cells": [
  {
   "cell_type": "markdown",
   "id": "66ba4300-828f-424a-9109-d1476825f969",
   "metadata": {},
   "source": [
    "## ***LIST DATA TYPE***\n",
    "---"
   ]
  },
  {
   "cell_type": "markdown",
   "id": "6befb983-7ccf-4d20-9f48-9dc2cf2a9b6d",
   "metadata": {},
   "source": [
    "Lists are a type of ordered data collection and are one of the variables that are often used in Python. Similar, but not the same as arrays in other programming languages. The difference is, List elements in Python do not have to have the same data type. Declaring a List is enough with square brackets ([]) or with elements separated by commas (,)"
   ]
  },
  {
   "cell_type": "code",
   "execution_count": 5,
   "id": "76dbe30a-648b-47db-8664-261ab504fea0",
   "metadata": {},
   "outputs": [],
   "source": [
    "a = [4, 6.8, 'sepuluh']"
   ]
  },
  {
   "cell_type": "code",
   "execution_count": 6,
   "id": "a68703cc-b216-49a1-92ff-97eb4f75ede6",
   "metadata": {},
   "outputs": [
    {
     "name": "stdout",
     "output_type": "stream",
     "text": [
      "[4, 6.8, 'sepuluh']\n"
     ]
    }
   ],
   "source": [
    "print(a)"
   ]
  },
  {
   "cell_type": "code",
   "execution_count": 7,
   "id": "affc77e2-89db-4007-ad6c-f2ecc5bb1eac",
   "metadata": {},
   "outputs": [
    {
     "data": {
      "text/plain": [
       "list"
      ]
     },
     "execution_count": 7,
     "metadata": {},
     "output_type": "execute_result"
    }
   ],
   "source": [
    "type(a)"
   ]
  },
  {
   "cell_type": "markdown",
   "id": "7c06d713-a553-4971-83bf-315aa81dc774",
   "metadata": {},
   "source": [
    "##### Any data with the list data type can be accessed with an index starting from 0\n",
    "---"
   ]
  },
  {
   "cell_type": "code",
   "execution_count": 9,
   "id": "78c2d032-8ce9-4719-b22a-c43448603d27",
   "metadata": {},
   "outputs": [
    {
     "data": {
      "text/plain": [
       "4"
      ]
     },
     "execution_count": 9,
     "metadata": {},
     "output_type": "execute_result"
    }
   ],
   "source": [
    "a[0]"
   ]
  },
  {
   "cell_type": "code",
   "execution_count": 8,
   "id": "d48a9a7d-fe44-4987-a44f-fbd2eacf6528",
   "metadata": {},
   "outputs": [
    {
     "data": {
      "text/plain": [
       "6.8"
      ]
     },
     "execution_count": 8,
     "metadata": {},
     "output_type": "execute_result"
    }
   ],
   "source": [
    "a[1]"
   ]
  },
  {
   "cell_type": "code",
   "execution_count": 9,
   "id": "4c987493-2fc2-433f-bc3c-968af089fe29",
   "metadata": {},
   "outputs": [
    {
     "data": {
      "text/plain": [
       "'sepuluh'"
      ]
     },
     "execution_count": 9,
     "metadata": {},
     "output_type": "execute_result"
    }
   ],
   "source": [
    "a[2]"
   ]
  },
  {
   "cell_type": "code",
   "execution_count": 10,
   "id": "35608484-37a1-48ae-8e83-b06d27d4468f",
   "metadata": {},
   "outputs": [
    {
     "data": {
      "text/plain": [
       "int"
      ]
     },
     "execution_count": 10,
     "metadata": {},
     "output_type": "execute_result"
    }
   ],
   "source": [
    "type (a[0])"
   ]
  },
  {
   "cell_type": "code",
   "execution_count": 11,
   "id": "4b25e2ad-f515-4a1b-b9ef-17efcb873f2a",
   "metadata": {},
   "outputs": [
    {
     "data": {
      "text/plain": [
       "float"
      ]
     },
     "execution_count": 11,
     "metadata": {},
     "output_type": "execute_result"
    }
   ],
   "source": [
    "type (a[1])"
   ]
  },
  {
   "cell_type": "code",
   "execution_count": 12,
   "id": "3e10ba64-46b7-4026-ac1a-3271f80de4d7",
   "metadata": {},
   "outputs": [
    {
     "data": {
      "text/plain": [
       "str"
      ]
     },
     "execution_count": 12,
     "metadata": {},
     "output_type": "execute_result"
    }
   ],
   "source": [
    "type(a[2])"
   ]
  },
  {
   "cell_type": "markdown",
   "id": "40c1db8e-0c39-410e-849d-60b26db6be79",
   "metadata": {},
   "source": [
    "#### Task\n",
    "---"
   ]
  },
  {
   "cell_type": "code",
   "execution_count": null,
   "id": "c369dcfd-02fe-48da-a647-527c408ddab2",
   "metadata": {},
   "outputs": [],
   "source": []
  }
 ],
 "metadata": {
  "kernelspec": {
   "display_name": "Python 3 (ipykernel)",
   "language": "python",
   "name": "python3"
  },
  "language_info": {
   "codemirror_mode": {
    "name": "ipython",
    "version": 3
   },
   "file_extension": ".py",
   "mimetype": "text/x-python",
   "name": "python",
   "nbconvert_exporter": "python",
   "pygments_lexer": "ipython3",
   "version": "3.11.7"
  }
 },
 "nbformat": 4,
 "nbformat_minor": 5
}
